{
 "cells": [
  {
   "cell_type": "markdown",
   "metadata": {},
   "source": [
    "## Домашнее задание\n",
    "### Смоделировать игру против лотерейного автомататипа \"777\". Игрок платит 1 руб., после чего выпадает трёхзначное случайное целое число, равномерно распределенное от 000 до 999. При некоторых значениях числа игрок получает выигрыш (см. справа)\n",
    "\n",
    "* ● Выгодна ли игра игроку?\n",
    "* ● Сколько в среднем приобретает или теряет игрок за одну игру?\n",
    "#### 777: 200 руб.\n",
    "#### 999: 100 руб.\n",
    "#### 555: 50 руб.\n",
    "#### 333: 15 руб.\n",
    "#### 111: 10 руб.\n",
    "#### *77: 5 руб.\n",
    "#### **7: 3 руб.\n",
    "#### *00: 2 руб.\n",
    "#### **0: 1 руб.\n",
    "#### * – любая цифра\n"
   ]
  },
  {
   "cell_type": "code",
   "execution_count": 1,
   "metadata": {},
   "outputs": [],
   "source": [
    "import numpy as np\n"
   ]
  },
  {
   "cell_type": "code",
   "execution_count": 2,
   "metadata": {},
   "outputs": [
    {
     "name": "stdout",
     "output_type": "stream",
     "text": [
      "Вероятность проигрыша 0.795344\n",
      "Средний проигрыш за игру 20 коп.\n"
     ]
    }
   ],
   "source": [
    "bet_total = 1000000   # Количество попыток, оно же сумма ставок \n",
    "win = 0    # Количество успехов\n",
    "\n",
    "win_sum = 0\n",
    "for i in range(bet_total):\n",
    "    random_score = np.random.randint(0, 1000)    # Случайное количество очков от 1 до 999\n",
    "    if random_score == 777:\n",
    "        win += 1\n",
    "        win_sum += 200\n",
    "    elif random_score == 999:\n",
    "        win += 1\n",
    "        win_sum += 100\n",
    "    elif random_score == 555:\n",
    "        win += 1\n",
    "        win_sum += 50\n",
    "    elif random_score == 333:\n",
    "        win += 1\n",
    "        win_sum += 15\n",
    "    elif random_score == 111:\n",
    "        win += 1\n",
    "        win_sum += 10\n",
    "    elif random_score%100 == 77 and random_score != 777:\n",
    "        win += 1\n",
    "        win_sum += 5\n",
    "    elif random_score%10 == 7:\n",
    "        win += 1\n",
    "        win_sum += 3\n",
    "    elif random_score%100 == 0:\n",
    "        win += 1\n",
    "        win_sum += 2\n",
    "    elif random_score%10 == 0:\n",
    "        win += 1\n",
    "        win_sum += 1\n",
    "print(f'Вероятность проигрыша {(1 - win/bet_total)}')\n",
    "print(f'Средний проигрыш за игру {round(100 * (1 - win_sum/bet_total))} коп.')\n",
    "        \n"
   ]
  },
  {
   "cell_type": "markdown",
   "metadata": {},
   "source": [
    "Игра не выгодна.\n",
    "Средний проигрыш - 21 коп."
   ]
  },
  {
   "cell_type": "markdown",
   "metadata": {},
   "source": [
    "### Дополнительное задание повышенной\n",
    "сложности. Теоретически рассчитать средний\n",
    "выигрыш (проигрыш) и сравнить с результатами\n",
    "моделирования"
   ]
  },
  {
   "cell_type": "code",
   "execution_count": 5,
   "metadata": {},
   "outputs": [
    {
     "name": "stdout",
     "output_type": "stream",
     "text": [
      " Теоретическая вероятность проигрыша 0.7999999999999999\n"
     ]
    }
   ],
   "source": [
    "# 777: 200 руб. вероятность = 1/1000\n",
    "# 999: 100 руб. вероятность = 1/1000\n",
    "# 555: 50 руб.  вероятность = 1/1000\n",
    "# 333: 15 руб.  вероятность = 1/1000\n",
    "# 111: 10 руб.  вероятность = 1/1000\n",
    "# *77: 5 руб.   вероятность = 9/1000\n",
    "# **7: 3 руб.   вероятность = 99/1000 - 9/1000\n",
    "# *00: 2 руб.   вероятность = 100/1000\n",
    "# **0: 1 руб.   вероятность = 100/1000 - 10/1000\n",
    "\n",
    "\n",
    "loss_average = (200 + 100 + 50 + 15 + 10)/1000 + (9/1000)*5 + (10/1000)*2 + (90/1000)*3 + 90/1000\n",
    "print(f' Теоретическая вероятность проигрыша {loss_average}')"
   ]
  },
  {
   "cell_type": "markdown",
   "metadata": {},
   "source": [
    "### Вероятность проигрыша (так как в среднем на каждый истраченный рубль возвращается 80 коп. ) при моделировании сопоставима с теоретической вероятностью по методу Монте-Карло"
   ]
  }
 ],
 "metadata": {
  "kernelspec": {
   "display_name": "Python 3",
   "language": "python",
   "name": "python3"
  },
  "language_info": {
   "codemirror_mode": {
    "name": "ipython",
    "version": 3
   },
   "file_extension": ".py",
   "mimetype": "text/x-python",
   "name": "python",
   "nbconvert_exporter": "python",
   "pygments_lexer": "ipython3",
   "version": "3.8.3"
  }
 },
 "nbformat": 4,
 "nbformat_minor": 4
}
