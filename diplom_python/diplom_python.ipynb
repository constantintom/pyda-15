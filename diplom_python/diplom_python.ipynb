{
 "cells": [
  {
   "cell_type": "markdown",
   "metadata": {},
   "source": [
    "## Дипломная работа по курсу python"
   ]
  },
  {
   "cell_type": "code",
   "execution_count": 30,
   "metadata": {},
   "outputs": [],
   "source": [
    "import pandas as pd\n",
    "import numpy as np\n",
    "import matplotlib.pyplot as plt\n",
    "import seaborn as sns\n",
    "import scipy.stats as stats\n",
    "\n",
    "#увеличим дефолтный размер графиков\n",
    "from pylab import rcParams\n",
    "rcParams['figure.figsize'] = 13,6"
   ]
  },
  {
   "cell_type": "markdown",
   "metadata": {},
   "source": [
    "Признаки:\n",
    "1. satisfaction_level - Уровень удовлетворенности работой\n",
    "2. Last_evaluation - Время с момента последней оценки в годах\n",
    "3. number_projects - Количество проектов, выполненных за время работы\n",
    "4. average_monthly_hours - Среднее количество часов на рабочем месте в месяц\n",
    "5. time_spend_company - Стаж работы в компании в годах\n",
    "6. work_accident - Происходили ли несчастные случаи на рабочем месте с сотрудником\n",
    "7. left - уволился ли сотрудник\n",
    "8. promotion_last_5years - повышался ли сотрудник за последние пять лет\n",
    "9. department - отдел в котором работает сотрудник\n",
    "10. salary - относительный уровень зарплаты"
   ]
  },
  {
   "cell_type": "markdown",
   "metadata": {},
   "source": [
    "#### 1. Загрузите файл HR.csv в pandas dataframe"
   ]
  },
  {
   "cell_type": "code",
   "execution_count": 3,
   "metadata": {},
   "outputs": [
    {
     "data": {
      "text/html": [
       "<div>\n",
       "<style scoped>\n",
       "    .dataframe tbody tr th:only-of-type {\n",
       "        vertical-align: middle;\n",
       "    }\n",
       "\n",
       "    .dataframe tbody tr th {\n",
       "        vertical-align: top;\n",
       "    }\n",
       "\n",
       "    .dataframe thead th {\n",
       "        text-align: right;\n",
       "    }\n",
       "</style>\n",
       "<table border=\"1\" class=\"dataframe\">\n",
       "  <thead>\n",
       "    <tr style=\"text-align: right;\">\n",
       "      <th></th>\n",
       "      <th>satisfaction_level</th>\n",
       "      <th>last_evaluation</th>\n",
       "      <th>number_project</th>\n",
       "      <th>average_montly_hours</th>\n",
       "      <th>time_spend_company</th>\n",
       "      <th>Work_accident</th>\n",
       "      <th>left</th>\n",
       "      <th>promotion_last_5years</th>\n",
       "      <th>department</th>\n",
       "      <th>salary</th>\n",
       "    </tr>\n",
       "  </thead>\n",
       "  <tbody>\n",
       "    <tr>\n",
       "      <th>0</th>\n",
       "      <td>0.38</td>\n",
       "      <td>0.53</td>\n",
       "      <td>2</td>\n",
       "      <td>157</td>\n",
       "      <td>3</td>\n",
       "      <td>0</td>\n",
       "      <td>1</td>\n",
       "      <td>0</td>\n",
       "      <td>sales</td>\n",
       "      <td>low</td>\n",
       "    </tr>\n",
       "    <tr>\n",
       "      <th>1</th>\n",
       "      <td>0.80</td>\n",
       "      <td>0.86</td>\n",
       "      <td>5</td>\n",
       "      <td>262</td>\n",
       "      <td>6</td>\n",
       "      <td>0</td>\n",
       "      <td>1</td>\n",
       "      <td>0</td>\n",
       "      <td>sales</td>\n",
       "      <td>medium</td>\n",
       "    </tr>\n",
       "    <tr>\n",
       "      <th>2</th>\n",
       "      <td>0.11</td>\n",
       "      <td>0.88</td>\n",
       "      <td>7</td>\n",
       "      <td>272</td>\n",
       "      <td>4</td>\n",
       "      <td>0</td>\n",
       "      <td>1</td>\n",
       "      <td>0</td>\n",
       "      <td>sales</td>\n",
       "      <td>medium</td>\n",
       "    </tr>\n",
       "    <tr>\n",
       "      <th>3</th>\n",
       "      <td>0.72</td>\n",
       "      <td>0.87</td>\n",
       "      <td>5</td>\n",
       "      <td>223</td>\n",
       "      <td>5</td>\n",
       "      <td>0</td>\n",
       "      <td>1</td>\n",
       "      <td>0</td>\n",
       "      <td>sales</td>\n",
       "      <td>low</td>\n",
       "    </tr>\n",
       "    <tr>\n",
       "      <th>4</th>\n",
       "      <td>0.37</td>\n",
       "      <td>0.52</td>\n",
       "      <td>2</td>\n",
       "      <td>159</td>\n",
       "      <td>3</td>\n",
       "      <td>0</td>\n",
       "      <td>1</td>\n",
       "      <td>0</td>\n",
       "      <td>sales</td>\n",
       "      <td>low</td>\n",
       "    </tr>\n",
       "  </tbody>\n",
       "</table>\n",
       "</div>"
      ],
      "text/plain": [
       "   satisfaction_level  last_evaluation  number_project  average_montly_hours  \\\n",
       "0                0.38             0.53               2                   157   \n",
       "1                0.80             0.86               5                   262   \n",
       "2                0.11             0.88               7                   272   \n",
       "3                0.72             0.87               5                   223   \n",
       "4                0.37             0.52               2                   159   \n",
       "\n",
       "   time_spend_company  Work_accident  left  promotion_last_5years department  \\\n",
       "0                   3              0     1                      0      sales   \n",
       "1                   6              0     1                      0      sales   \n",
       "2                   4              0     1                      0      sales   \n",
       "3                   5              0     1                      0      sales   \n",
       "4                   3              0     1                      0      sales   \n",
       "\n",
       "   salary  \n",
       "0     low  \n",
       "1  medium  \n",
       "2  medium  \n",
       "3     low  \n",
       "4     low  "
      ]
     },
     "execution_count": 3,
     "metadata": {},
     "output_type": "execute_result"
    }
   ],
   "source": [
    "data_hr = pd.read_csv('D:/DATA_SCIENCE/dataset/diplom_python/HR.csv')\n",
    "data_hr.head()"
   ]
  },
  {
   "cell_type": "code",
   "execution_count": 4,
   "metadata": {},
   "outputs": [
    {
     "name": "stdout",
     "output_type": "stream",
     "text": [
      "<class 'pandas.core.frame.DataFrame'>\n",
      "RangeIndex: 14999 entries, 0 to 14998\n",
      "Data columns (total 10 columns):\n",
      " #   Column                 Non-Null Count  Dtype  \n",
      "---  ------                 --------------  -----  \n",
      " 0   satisfaction_level     14999 non-null  float64\n",
      " 1   last_evaluation        14999 non-null  float64\n",
      " 2   number_project         14999 non-null  int64  \n",
      " 3   average_montly_hours   14999 non-null  int64  \n",
      " 4   time_spend_company     14999 non-null  int64  \n",
      " 5   Work_accident          14999 non-null  int64  \n",
      " 6   left                   14999 non-null  int64  \n",
      " 7   promotion_last_5years  14999 non-null  int64  \n",
      " 8   department             14999 non-null  object \n",
      " 9   salary                 14999 non-null  object \n",
      "dtypes: float64(2), int64(6), object(2)\n",
      "memory usage: 1.1+ MB\n"
     ]
    }
   ],
   "source": [
    "data_hr.info()"
   ]
  },
  {
   "cell_type": "markdown",
   "metadata": {},
   "source": [
    "#### 2. Рассчитайте основные статистики для переменных (среднее, медиана, мода, мин/макс, сред.отклонение)"
   ]
  },
  {
   "cell_type": "code",
   "execution_count": 5,
   "metadata": {},
   "outputs": [
    {
     "data": {
      "text/html": [
       "<div>\n",
       "<style scoped>\n",
       "    .dataframe tbody tr th:only-of-type {\n",
       "        vertical-align: middle;\n",
       "    }\n",
       "\n",
       "    .dataframe tbody tr th {\n",
       "        vertical-align: top;\n",
       "    }\n",
       "\n",
       "    .dataframe thead th {\n",
       "        text-align: right;\n",
       "    }\n",
       "</style>\n",
       "<table border=\"1\" class=\"dataframe\">\n",
       "  <thead>\n",
       "    <tr style=\"text-align: right;\">\n",
       "      <th></th>\n",
       "      <th>satisfaction_level</th>\n",
       "      <th>last_evaluation</th>\n",
       "      <th>number_project</th>\n",
       "      <th>average_montly_hours</th>\n",
       "      <th>time_spend_company</th>\n",
       "      <th>Work_accident</th>\n",
       "      <th>left</th>\n",
       "      <th>promotion_last_5years</th>\n",
       "      <th>department</th>\n",
       "      <th>salary</th>\n",
       "    </tr>\n",
       "  </thead>\n",
       "  <tbody>\n",
       "    <tr>\n",
       "      <th>0</th>\n",
       "      <td>1.0</td>\n",
       "      <td>1.0</td>\n",
       "      <td>4.0</td>\n",
       "      <td>135</td>\n",
       "      <td>3.0</td>\n",
       "      <td>0.0</td>\n",
       "      <td>0.0</td>\n",
       "      <td>0.0</td>\n",
       "      <td>sales</td>\n",
       "      <td>low</td>\n",
       "    </tr>\n",
       "    <tr>\n",
       "      <th>1</th>\n",
       "      <td>NaN</td>\n",
       "      <td>NaN</td>\n",
       "      <td>NaN</td>\n",
       "      <td>156</td>\n",
       "      <td>NaN</td>\n",
       "      <td>NaN</td>\n",
       "      <td>NaN</td>\n",
       "      <td>NaN</td>\n",
       "      <td>NaN</td>\n",
       "      <td>NaN</td>\n",
       "    </tr>\n",
       "  </tbody>\n",
       "</table>\n",
       "</div>"
      ],
      "text/plain": [
       "   satisfaction_level  last_evaluation  number_project  average_montly_hours  \\\n",
       "0                 1.0              1.0             4.0                   135   \n",
       "1                 NaN              NaN             NaN                   156   \n",
       "\n",
       "   time_spend_company  Work_accident  left  promotion_last_5years department  \\\n",
       "0                 3.0            0.0   0.0                    0.0      sales   \n",
       "1                 NaN            NaN   NaN                    NaN        NaN   \n",
       "\n",
       "  salary  \n",
       "0    low  \n",
       "1    NaN  "
      ]
     },
     "execution_count": 5,
     "metadata": {},
     "output_type": "execute_result"
    }
   ],
   "source": [
    "# Расчёт моды\n",
    "data_hr_mode = data_hr.round().mode()\n",
    "data_hr_mode"
   ]
  },
  {
   "cell_type": "code",
   "execution_count": null,
   "metadata": {},
   "outputs": [],
   "source": [
    "# Расчёт среднего, медианы, мин/макс, среднего отклонения"
   ]
  },
  {
   "cell_type": "code",
   "execution_count": 6,
   "metadata": {},
   "outputs": [
    {
     "data": {
      "text/html": [
       "<div>\n",
       "<style scoped>\n",
       "    .dataframe tbody tr th:only-of-type {\n",
       "        vertical-align: middle;\n",
       "    }\n",
       "\n",
       "    .dataframe tbody tr th {\n",
       "        vertical-align: top;\n",
       "    }\n",
       "\n",
       "    .dataframe thead th {\n",
       "        text-align: right;\n",
       "    }\n",
       "</style>\n",
       "<table border=\"1\" class=\"dataframe\">\n",
       "  <thead>\n",
       "    <tr style=\"text-align: right;\">\n",
       "      <th></th>\n",
       "      <th>satisfaction_level</th>\n",
       "      <th>last_evaluation</th>\n",
       "      <th>number_project</th>\n",
       "      <th>average_montly_hours</th>\n",
       "      <th>time_spend_company</th>\n",
       "      <th>Work_accident</th>\n",
       "      <th>left</th>\n",
       "      <th>promotion_last_5years</th>\n",
       "    </tr>\n",
       "  </thead>\n",
       "  <tbody>\n",
       "    <tr>\n",
       "      <th>count</th>\n",
       "      <td>14999.000000</td>\n",
       "      <td>14999.000000</td>\n",
       "      <td>14999.000000</td>\n",
       "      <td>14999.000000</td>\n",
       "      <td>14999.000000</td>\n",
       "      <td>14999.000000</td>\n",
       "      <td>14999.000000</td>\n",
       "      <td>14999.000000</td>\n",
       "    </tr>\n",
       "    <tr>\n",
       "      <th>mean</th>\n",
       "      <td>0.612834</td>\n",
       "      <td>0.716102</td>\n",
       "      <td>3.803054</td>\n",
       "      <td>201.050337</td>\n",
       "      <td>3.498233</td>\n",
       "      <td>0.144610</td>\n",
       "      <td>0.238083</td>\n",
       "      <td>0.021268</td>\n",
       "    </tr>\n",
       "    <tr>\n",
       "      <th>std</th>\n",
       "      <td>0.248631</td>\n",
       "      <td>0.171169</td>\n",
       "      <td>1.232592</td>\n",
       "      <td>49.943099</td>\n",
       "      <td>1.460136</td>\n",
       "      <td>0.351719</td>\n",
       "      <td>0.425924</td>\n",
       "      <td>0.144281</td>\n",
       "    </tr>\n",
       "    <tr>\n",
       "      <th>min</th>\n",
       "      <td>0.090000</td>\n",
       "      <td>0.360000</td>\n",
       "      <td>2.000000</td>\n",
       "      <td>96.000000</td>\n",
       "      <td>2.000000</td>\n",
       "      <td>0.000000</td>\n",
       "      <td>0.000000</td>\n",
       "      <td>0.000000</td>\n",
       "    </tr>\n",
       "    <tr>\n",
       "      <th>25%</th>\n",
       "      <td>0.440000</td>\n",
       "      <td>0.560000</td>\n",
       "      <td>3.000000</td>\n",
       "      <td>156.000000</td>\n",
       "      <td>3.000000</td>\n",
       "      <td>0.000000</td>\n",
       "      <td>0.000000</td>\n",
       "      <td>0.000000</td>\n",
       "    </tr>\n",
       "    <tr>\n",
       "      <th>50%</th>\n",
       "      <td>0.640000</td>\n",
       "      <td>0.720000</td>\n",
       "      <td>4.000000</td>\n",
       "      <td>200.000000</td>\n",
       "      <td>3.000000</td>\n",
       "      <td>0.000000</td>\n",
       "      <td>0.000000</td>\n",
       "      <td>0.000000</td>\n",
       "    </tr>\n",
       "    <tr>\n",
       "      <th>75%</th>\n",
       "      <td>0.820000</td>\n",
       "      <td>0.870000</td>\n",
       "      <td>5.000000</td>\n",
       "      <td>245.000000</td>\n",
       "      <td>4.000000</td>\n",
       "      <td>0.000000</td>\n",
       "      <td>0.000000</td>\n",
       "      <td>0.000000</td>\n",
       "    </tr>\n",
       "    <tr>\n",
       "      <th>max</th>\n",
       "      <td>1.000000</td>\n",
       "      <td>1.000000</td>\n",
       "      <td>7.000000</td>\n",
       "      <td>310.000000</td>\n",
       "      <td>10.000000</td>\n",
       "      <td>1.000000</td>\n",
       "      <td>1.000000</td>\n",
       "      <td>1.000000</td>\n",
       "    </tr>\n",
       "  </tbody>\n",
       "</table>\n",
       "</div>"
      ],
      "text/plain": [
       "       satisfaction_level  last_evaluation  number_project  \\\n",
       "count        14999.000000     14999.000000    14999.000000   \n",
       "mean             0.612834         0.716102        3.803054   \n",
       "std              0.248631         0.171169        1.232592   \n",
       "min              0.090000         0.360000        2.000000   \n",
       "25%              0.440000         0.560000        3.000000   \n",
       "50%              0.640000         0.720000        4.000000   \n",
       "75%              0.820000         0.870000        5.000000   \n",
       "max              1.000000         1.000000        7.000000   \n",
       "\n",
       "       average_montly_hours  time_spend_company  Work_accident          left  \\\n",
       "count          14999.000000        14999.000000   14999.000000  14999.000000   \n",
       "mean             201.050337            3.498233       0.144610      0.238083   \n",
       "std               49.943099            1.460136       0.351719      0.425924   \n",
       "min               96.000000            2.000000       0.000000      0.000000   \n",
       "25%              156.000000            3.000000       0.000000      0.000000   \n",
       "50%              200.000000            3.000000       0.000000      0.000000   \n",
       "75%              245.000000            4.000000       0.000000      0.000000   \n",
       "max              310.000000           10.000000       1.000000      1.000000   \n",
       "\n",
       "       promotion_last_5years  \n",
       "count           14999.000000  \n",
       "mean                0.021268  \n",
       "std                 0.144281  \n",
       "min                 0.000000  \n",
       "25%                 0.000000  \n",
       "50%                 0.000000  \n",
       "75%                 0.000000  \n",
       "max                 1.000000  "
      ]
     },
     "execution_count": 6,
     "metadata": {},
     "output_type": "execute_result"
    }
   ],
   "source": [
    "data_hr.describe()"
   ]
  },
  {
   "cell_type": "markdown",
   "metadata": {},
   "source": [
    "#### 3. Рассчитайте и визуализируйте корреляционную матрицу для количественных переменных.\n",
    "####    Определите две самые скоррелированные и две наименее скоррелированные переменные."
   ]
  },
  {
   "cell_type": "code",
   "execution_count": 16,
   "metadata": {},
   "outputs": [
    {
     "data": {
      "text/html": [
       "<style  type=\"text/css\" >\n",
       "#T_9d434215_559b_11eb_a2a3_74d02b0cdfa3row0_col0,#T_9d434215_559b_11eb_a2a3_74d02b0cdfa3row1_col1,#T_9d434215_559b_11eb_a2a3_74d02b0cdfa3row2_col2,#T_9d434215_559b_11eb_a2a3_74d02b0cdfa3row3_col3,#T_9d434215_559b_11eb_a2a3_74d02b0cdfa3row4_col4,#T_9d434215_559b_11eb_a2a3_74d02b0cdfa3row5_col5,#T_9d434215_559b_11eb_a2a3_74d02b0cdfa3row6_col6,#T_9d434215_559b_11eb_a2a3_74d02b0cdfa3row7_col7{\n",
       "            background-color:  #b40426;\n",
       "            color:  #f1f1f1;\n",
       "        }#T_9d434215_559b_11eb_a2a3_74d02b0cdfa3row0_col1{\n",
       "            background-color:  #5d7ce6;\n",
       "            color:  #000000;\n",
       "        }#T_9d434215_559b_11eb_a2a3_74d02b0cdfa3row0_col2,#T_9d434215_559b_11eb_a2a3_74d02b0cdfa3row0_col3,#T_9d434215_559b_11eb_a2a3_74d02b0cdfa3row0_col4,#T_9d434215_559b_11eb_a2a3_74d02b0cdfa3row0_col6,#T_9d434215_559b_11eb_a2a3_74d02b0cdfa3row5_col1,#T_9d434215_559b_11eb_a2a3_74d02b0cdfa3row6_col0,#T_9d434215_559b_11eb_a2a3_74d02b0cdfa3row6_col5,#T_9d434215_559b_11eb_a2a3_74d02b0cdfa3row6_col7,#T_9d434215_559b_11eb_a2a3_74d02b0cdfa3row7_col1{\n",
       "            background-color:  #3b4cc0;\n",
       "            color:  #f1f1f1;\n",
       "        }#T_9d434215_559b_11eb_a2a3_74d02b0cdfa3row0_col5{\n",
       "            background-color:  #7699f6;\n",
       "            color:  #000000;\n",
       "        }#T_9d434215_559b_11eb_a2a3_74d02b0cdfa3row0_col7{\n",
       "            background-color:  #5470de;\n",
       "            color:  #000000;\n",
       "        }#T_9d434215_559b_11eb_a2a3_74d02b0cdfa3row1_col0,#T_9d434215_559b_11eb_a2a3_74d02b0cdfa3row1_col3,#T_9d434215_559b_11eb_a2a3_74d02b0cdfa3row2_col1{\n",
       "            background-color:  #b1cbfc;\n",
       "            color:  #000000;\n",
       "        }#T_9d434215_559b_11eb_a2a3_74d02b0cdfa3row1_col2{\n",
       "            background-color:  #cad8ef;\n",
       "            color:  #000000;\n",
       "        }#T_9d434215_559b_11eb_a2a3_74d02b0cdfa3row1_col4{\n",
       "            background-color:  #80a3fa;\n",
       "            color:  #000000;\n",
       "        }#T_9d434215_559b_11eb_a2a3_74d02b0cdfa3row1_col5,#T_9d434215_559b_11eb_a2a3_74d02b0cdfa3row3_col5{\n",
       "            background-color:  #6282ea;\n",
       "            color:  #000000;\n",
       "        }#T_9d434215_559b_11eb_a2a3_74d02b0cdfa3row1_col6{\n",
       "            background-color:  #98b9ff;\n",
       "            color:  #000000;\n",
       "        }#T_9d434215_559b_11eb_a2a3_74d02b0cdfa3row1_col7{\n",
       "            background-color:  #4961d2;\n",
       "            color:  #f1f1f1;\n",
       "        }#T_9d434215_559b_11eb_a2a3_74d02b0cdfa3row2_col0{\n",
       "            background-color:  #7396f5;\n",
       "            color:  #000000;\n",
       "        }#T_9d434215_559b_11eb_a2a3_74d02b0cdfa3row2_col3{\n",
       "            background-color:  #c9d7f0;\n",
       "            color:  #000000;\n",
       "        }#T_9d434215_559b_11eb_a2a3_74d02b0cdfa3row2_col4{\n",
       "            background-color:  #94b6ff;\n",
       "            color:  #000000;\n",
       "        }#T_9d434215_559b_11eb_a2a3_74d02b0cdfa3row2_col5{\n",
       "            background-color:  #6384eb;\n",
       "            color:  #000000;\n",
       "        }#T_9d434215_559b_11eb_a2a3_74d02b0cdfa3row2_col6{\n",
       "            background-color:  #9dbdff;\n",
       "            color:  #000000;\n",
       "        }#T_9d434215_559b_11eb_a2a3_74d02b0cdfa3row2_col7{\n",
       "            background-color:  #4a63d3;\n",
       "            color:  #f1f1f1;\n",
       "        }#T_9d434215_559b_11eb_a2a3_74d02b0cdfa3row3_col0{\n",
       "            background-color:  #92b4fe;\n",
       "            color:  #000000;\n",
       "        }#T_9d434215_559b_11eb_a2a3_74d02b0cdfa3row3_col1{\n",
       "            background-color:  #aec9fc;\n",
       "            color:  #000000;\n",
       "        }#T_9d434215_559b_11eb_a2a3_74d02b0cdfa3row3_col2{\n",
       "            background-color:  #dadce0;\n",
       "            color:  #000000;\n",
       "        }#T_9d434215_559b_11eb_a2a3_74d02b0cdfa3row3_col4,#T_9d434215_559b_11eb_a2a3_74d02b0cdfa3row4_col0{\n",
       "            background-color:  #7ea1fa;\n",
       "            color:  #000000;\n",
       "        }#T_9d434215_559b_11eb_a2a3_74d02b0cdfa3row3_col6{\n",
       "            background-color:  #a9c6fd;\n",
       "            color:  #000000;\n",
       "        }#T_9d434215_559b_11eb_a2a3_74d02b0cdfa3row3_col7{\n",
       "            background-color:  #4b64d5;\n",
       "            color:  #f1f1f1;\n",
       "        }#T_9d434215_559b_11eb_a2a3_74d02b0cdfa3row4_col1{\n",
       "            background-color:  #6687ed;\n",
       "            color:  #000000;\n",
       "        }#T_9d434215_559b_11eb_a2a3_74d02b0cdfa3row4_col2,#T_9d434215_559b_11eb_a2a3_74d02b0cdfa3row7_col0{\n",
       "            background-color:  #9ebeff;\n",
       "            color:  #000000;\n",
       "        }#T_9d434215_559b_11eb_a2a3_74d02b0cdfa3row4_col3,#T_9d434215_559b_11eb_a2a3_74d02b0cdfa3row6_col2{\n",
       "            background-color:  #688aef;\n",
       "            color:  #000000;\n",
       "        }#T_9d434215_559b_11eb_a2a3_74d02b0cdfa3row4_col5{\n",
       "            background-color:  #6485ec;\n",
       "            color:  #000000;\n",
       "        }#T_9d434215_559b_11eb_a2a3_74d02b0cdfa3row4_col6{\n",
       "            background-color:  #bbd1f8;\n",
       "            color:  #000000;\n",
       "        }#T_9d434215_559b_11eb_a2a3_74d02b0cdfa3row4_col7{\n",
       "            background-color:  #6180e9;\n",
       "            color:  #000000;\n",
       "        }#T_9d434215_559b_11eb_a2a3_74d02b0cdfa3row5_col0{\n",
       "            background-color:  #a6c4fe;\n",
       "            color:  #000000;\n",
       "        }#T_9d434215_559b_11eb_a2a3_74d02b0cdfa3row5_col2,#T_9d434215_559b_11eb_a2a3_74d02b0cdfa3row7_col2{\n",
       "            background-color:  #5f7fe8;\n",
       "            color:  #000000;\n",
       "        }#T_9d434215_559b_11eb_a2a3_74d02b0cdfa3row5_col3{\n",
       "            background-color:  #3d50c3;\n",
       "            color:  #f1f1f1;\n",
       "        }#T_9d434215_559b_11eb_a2a3_74d02b0cdfa3row5_col4{\n",
       "            background-color:  #5673e0;\n",
       "            color:  #000000;\n",
       "        }#T_9d434215_559b_11eb_a2a3_74d02b0cdfa3row5_col6{\n",
       "            background-color:  #7093f3;\n",
       "            color:  #000000;\n",
       "        }#T_9d434215_559b_11eb_a2a3_74d02b0cdfa3row5_col7{\n",
       "            background-color:  #5875e1;\n",
       "            color:  #000000;\n",
       "        }#T_9d434215_559b_11eb_a2a3_74d02b0cdfa3row6_col1{\n",
       "            background-color:  #3e51c5;\n",
       "            color:  #f1f1f1;\n",
       "        }#T_9d434215_559b_11eb_a2a3_74d02b0cdfa3row6_col3{\n",
       "            background-color:  #5572df;\n",
       "            color:  #000000;\n",
       "        }#T_9d434215_559b_11eb_a2a3_74d02b0cdfa3row6_col4{\n",
       "            background-color:  #84a7fc;\n",
       "            color:  #000000;\n",
       "        }#T_9d434215_559b_11eb_a2a3_74d02b0cdfa3row7_col3{\n",
       "            background-color:  #3f53c6;\n",
       "            color:  #f1f1f1;\n",
       "        }#T_9d434215_559b_11eb_a2a3_74d02b0cdfa3row7_col4{\n",
       "            background-color:  #6b8df0;\n",
       "            color:  #000000;\n",
       "        }#T_9d434215_559b_11eb_a2a3_74d02b0cdfa3row7_col5{\n",
       "            background-color:  #6f92f3;\n",
       "            color:  #000000;\n",
       "        }#T_9d434215_559b_11eb_a2a3_74d02b0cdfa3row7_col6{\n",
       "            background-color:  #88abfd;\n",
       "            color:  #000000;\n",
       "        }</style><table id=\"T_9d434215_559b_11eb_a2a3_74d02b0cdfa3\" ><thead>    <tr>        <th class=\"blank level0\" ></th>        <th class=\"col_heading level0 col0\" >satisfaction_level</th>        <th class=\"col_heading level0 col1\" >last_evaluation</th>        <th class=\"col_heading level0 col2\" >number_project</th>        <th class=\"col_heading level0 col3\" >average_montly_hours</th>        <th class=\"col_heading level0 col4\" >time_spend_company</th>        <th class=\"col_heading level0 col5\" >Work_accident</th>        <th class=\"col_heading level0 col6\" >left</th>        <th class=\"col_heading level0 col7\" >promotion_last_5years</th>    </tr></thead><tbody>\n",
       "                <tr>\n",
       "                        <th id=\"T_9d434215_559b_11eb_a2a3_74d02b0cdfa3level0_row0\" class=\"row_heading level0 row0\" >satisfaction_level</th>\n",
       "                        <td id=\"T_9d434215_559b_11eb_a2a3_74d02b0cdfa3row0_col0\" class=\"data row0 col0\" >1.000000</td>\n",
       "                        <td id=\"T_9d434215_559b_11eb_a2a3_74d02b0cdfa3row0_col1\" class=\"data row0 col1\" >0.105021</td>\n",
       "                        <td id=\"T_9d434215_559b_11eb_a2a3_74d02b0cdfa3row0_col2\" class=\"data row0 col2\" >-0.142970</td>\n",
       "                        <td id=\"T_9d434215_559b_11eb_a2a3_74d02b0cdfa3row0_col3\" class=\"data row0 col3\" >-0.020048</td>\n",
       "                        <td id=\"T_9d434215_559b_11eb_a2a3_74d02b0cdfa3row0_col4\" class=\"data row0 col4\" >-0.100866</td>\n",
       "                        <td id=\"T_9d434215_559b_11eb_a2a3_74d02b0cdfa3row0_col5\" class=\"data row0 col5\" >0.058697</td>\n",
       "                        <td id=\"T_9d434215_559b_11eb_a2a3_74d02b0cdfa3row0_col6\" class=\"data row0 col6\" >-0.388375</td>\n",
       "                        <td id=\"T_9d434215_559b_11eb_a2a3_74d02b0cdfa3row0_col7\" class=\"data row0 col7\" >0.025605</td>\n",
       "            </tr>\n",
       "            <tr>\n",
       "                        <th id=\"T_9d434215_559b_11eb_a2a3_74d02b0cdfa3level0_row1\" class=\"row_heading level0 row1\" >last_evaluation</th>\n",
       "                        <td id=\"T_9d434215_559b_11eb_a2a3_74d02b0cdfa3row1_col0\" class=\"data row1 col0\" >0.105021</td>\n",
       "                        <td id=\"T_9d434215_559b_11eb_a2a3_74d02b0cdfa3row1_col1\" class=\"data row1 col1\" >1.000000</td>\n",
       "                        <td id=\"T_9d434215_559b_11eb_a2a3_74d02b0cdfa3row1_col2\" class=\"data row1 col2\" >0.349333</td>\n",
       "                        <td id=\"T_9d434215_559b_11eb_a2a3_74d02b0cdfa3row1_col3\" class=\"data row1 col3\" >0.339742</td>\n",
       "                        <td id=\"T_9d434215_559b_11eb_a2a3_74d02b0cdfa3row1_col4\" class=\"data row1 col4\" >0.131591</td>\n",
       "                        <td id=\"T_9d434215_559b_11eb_a2a3_74d02b0cdfa3row1_col5\" class=\"data row1 col5\" >-0.007104</td>\n",
       "                        <td id=\"T_9d434215_559b_11eb_a2a3_74d02b0cdfa3row1_col6\" class=\"data row1 col6\" >0.006567</td>\n",
       "                        <td id=\"T_9d434215_559b_11eb_a2a3_74d02b0cdfa3row1_col7\" class=\"data row1 col7\" >-0.008684</td>\n",
       "            </tr>\n",
       "            <tr>\n",
       "                        <th id=\"T_9d434215_559b_11eb_a2a3_74d02b0cdfa3level0_row2\" class=\"row_heading level0 row2\" >number_project</th>\n",
       "                        <td id=\"T_9d434215_559b_11eb_a2a3_74d02b0cdfa3row2_col0\" class=\"data row2 col0\" >-0.142970</td>\n",
       "                        <td id=\"T_9d434215_559b_11eb_a2a3_74d02b0cdfa3row2_col1\" class=\"data row2 col1\" >0.349333</td>\n",
       "                        <td id=\"T_9d434215_559b_11eb_a2a3_74d02b0cdfa3row2_col2\" class=\"data row2 col2\" >1.000000</td>\n",
       "                        <td id=\"T_9d434215_559b_11eb_a2a3_74d02b0cdfa3row2_col3\" class=\"data row2 col3\" >0.417211</td>\n",
       "                        <td id=\"T_9d434215_559b_11eb_a2a3_74d02b0cdfa3row2_col4\" class=\"data row2 col4\" >0.196786</td>\n",
       "                        <td id=\"T_9d434215_559b_11eb_a2a3_74d02b0cdfa3row2_col5\" class=\"data row2 col5\" >-0.004741</td>\n",
       "                        <td id=\"T_9d434215_559b_11eb_a2a3_74d02b0cdfa3row2_col6\" class=\"data row2 col6\" >0.023787</td>\n",
       "                        <td id=\"T_9d434215_559b_11eb_a2a3_74d02b0cdfa3row2_col7\" class=\"data row2 col7\" >-0.006064</td>\n",
       "            </tr>\n",
       "            <tr>\n",
       "                        <th id=\"T_9d434215_559b_11eb_a2a3_74d02b0cdfa3level0_row3\" class=\"row_heading level0 row3\" >average_montly_hours</th>\n",
       "                        <td id=\"T_9d434215_559b_11eb_a2a3_74d02b0cdfa3row3_col0\" class=\"data row3 col0\" >-0.020048</td>\n",
       "                        <td id=\"T_9d434215_559b_11eb_a2a3_74d02b0cdfa3row3_col1\" class=\"data row3 col1\" >0.339742</td>\n",
       "                        <td id=\"T_9d434215_559b_11eb_a2a3_74d02b0cdfa3row3_col2\" class=\"data row3 col2\" >0.417211</td>\n",
       "                        <td id=\"T_9d434215_559b_11eb_a2a3_74d02b0cdfa3row3_col3\" class=\"data row3 col3\" >1.000000</td>\n",
       "                        <td id=\"T_9d434215_559b_11eb_a2a3_74d02b0cdfa3row3_col4\" class=\"data row3 col4\" >0.127755</td>\n",
       "                        <td id=\"T_9d434215_559b_11eb_a2a3_74d02b0cdfa3row3_col5\" class=\"data row3 col5\" >-0.010143</td>\n",
       "                        <td id=\"T_9d434215_559b_11eb_a2a3_74d02b0cdfa3row3_col6\" class=\"data row3 col6\" >0.071287</td>\n",
       "                        <td id=\"T_9d434215_559b_11eb_a2a3_74d02b0cdfa3row3_col7\" class=\"data row3 col7\" >-0.003544</td>\n",
       "            </tr>\n",
       "            <tr>\n",
       "                        <th id=\"T_9d434215_559b_11eb_a2a3_74d02b0cdfa3level0_row4\" class=\"row_heading level0 row4\" >time_spend_company</th>\n",
       "                        <td id=\"T_9d434215_559b_11eb_a2a3_74d02b0cdfa3row4_col0\" class=\"data row4 col0\" >-0.100866</td>\n",
       "                        <td id=\"T_9d434215_559b_11eb_a2a3_74d02b0cdfa3row4_col1\" class=\"data row4 col1\" >0.131591</td>\n",
       "                        <td id=\"T_9d434215_559b_11eb_a2a3_74d02b0cdfa3row4_col2\" class=\"data row4 col2\" >0.196786</td>\n",
       "                        <td id=\"T_9d434215_559b_11eb_a2a3_74d02b0cdfa3row4_col3\" class=\"data row4 col3\" >0.127755</td>\n",
       "                        <td id=\"T_9d434215_559b_11eb_a2a3_74d02b0cdfa3row4_col4\" class=\"data row4 col4\" >1.000000</td>\n",
       "                        <td id=\"T_9d434215_559b_11eb_a2a3_74d02b0cdfa3row4_col5\" class=\"data row4 col5\" >0.002120</td>\n",
       "                        <td id=\"T_9d434215_559b_11eb_a2a3_74d02b0cdfa3row4_col6\" class=\"data row4 col6\" >0.144822</td>\n",
       "                        <td id=\"T_9d434215_559b_11eb_a2a3_74d02b0cdfa3row4_col7\" class=\"data row4 col7\" >0.067433</td>\n",
       "            </tr>\n",
       "            <tr>\n",
       "                        <th id=\"T_9d434215_559b_11eb_a2a3_74d02b0cdfa3level0_row5\" class=\"row_heading level0 row5\" >Work_accident</th>\n",
       "                        <td id=\"T_9d434215_559b_11eb_a2a3_74d02b0cdfa3row5_col0\" class=\"data row5 col0\" >0.058697</td>\n",
       "                        <td id=\"T_9d434215_559b_11eb_a2a3_74d02b0cdfa3row5_col1\" class=\"data row5 col1\" >-0.007104</td>\n",
       "                        <td id=\"T_9d434215_559b_11eb_a2a3_74d02b0cdfa3row5_col2\" class=\"data row5 col2\" >-0.004741</td>\n",
       "                        <td id=\"T_9d434215_559b_11eb_a2a3_74d02b0cdfa3row5_col3\" class=\"data row5 col3\" >-0.010143</td>\n",
       "                        <td id=\"T_9d434215_559b_11eb_a2a3_74d02b0cdfa3row5_col4\" class=\"data row5 col4\" >0.002120</td>\n",
       "                        <td id=\"T_9d434215_559b_11eb_a2a3_74d02b0cdfa3row5_col5\" class=\"data row5 col5\" >1.000000</td>\n",
       "                        <td id=\"T_9d434215_559b_11eb_a2a3_74d02b0cdfa3row5_col6\" class=\"data row5 col6\" >-0.154622</td>\n",
       "                        <td id=\"T_9d434215_559b_11eb_a2a3_74d02b0cdfa3row5_col7\" class=\"data row5 col7\" >0.039245</td>\n",
       "            </tr>\n",
       "            <tr>\n",
       "                        <th id=\"T_9d434215_559b_11eb_a2a3_74d02b0cdfa3level0_row6\" class=\"row_heading level0 row6\" >left</th>\n",
       "                        <td id=\"T_9d434215_559b_11eb_a2a3_74d02b0cdfa3row6_col0\" class=\"data row6 col0\" >-0.388375</td>\n",
       "                        <td id=\"T_9d434215_559b_11eb_a2a3_74d02b0cdfa3row6_col1\" class=\"data row6 col1\" >0.006567</td>\n",
       "                        <td id=\"T_9d434215_559b_11eb_a2a3_74d02b0cdfa3row6_col2\" class=\"data row6 col2\" >0.023787</td>\n",
       "                        <td id=\"T_9d434215_559b_11eb_a2a3_74d02b0cdfa3row6_col3\" class=\"data row6 col3\" >0.071287</td>\n",
       "                        <td id=\"T_9d434215_559b_11eb_a2a3_74d02b0cdfa3row6_col4\" class=\"data row6 col4\" >0.144822</td>\n",
       "                        <td id=\"T_9d434215_559b_11eb_a2a3_74d02b0cdfa3row6_col5\" class=\"data row6 col5\" >-0.154622</td>\n",
       "                        <td id=\"T_9d434215_559b_11eb_a2a3_74d02b0cdfa3row6_col6\" class=\"data row6 col6\" >1.000000</td>\n",
       "                        <td id=\"T_9d434215_559b_11eb_a2a3_74d02b0cdfa3row6_col7\" class=\"data row6 col7\" >-0.061788</td>\n",
       "            </tr>\n",
       "            <tr>\n",
       "                        <th id=\"T_9d434215_559b_11eb_a2a3_74d02b0cdfa3level0_row7\" class=\"row_heading level0 row7\" >promotion_last_5years</th>\n",
       "                        <td id=\"T_9d434215_559b_11eb_a2a3_74d02b0cdfa3row7_col0\" class=\"data row7 col0\" >0.025605</td>\n",
       "                        <td id=\"T_9d434215_559b_11eb_a2a3_74d02b0cdfa3row7_col1\" class=\"data row7 col1\" >-0.008684</td>\n",
       "                        <td id=\"T_9d434215_559b_11eb_a2a3_74d02b0cdfa3row7_col2\" class=\"data row7 col2\" >-0.006064</td>\n",
       "                        <td id=\"T_9d434215_559b_11eb_a2a3_74d02b0cdfa3row7_col3\" class=\"data row7 col3\" >-0.003544</td>\n",
       "                        <td id=\"T_9d434215_559b_11eb_a2a3_74d02b0cdfa3row7_col4\" class=\"data row7 col4\" >0.067433</td>\n",
       "                        <td id=\"T_9d434215_559b_11eb_a2a3_74d02b0cdfa3row7_col5\" class=\"data row7 col5\" >0.039245</td>\n",
       "                        <td id=\"T_9d434215_559b_11eb_a2a3_74d02b0cdfa3row7_col6\" class=\"data row7 col6\" >-0.061788</td>\n",
       "                        <td id=\"T_9d434215_559b_11eb_a2a3_74d02b0cdfa3row7_col7\" class=\"data row7 col7\" >1.000000</td>\n",
       "            </tr>\n",
       "    </tbody></table>"
      ],
      "text/plain": [
       "<pandas.io.formats.style.Styler at 0x26eb03275e0>"
      ]
     },
     "execution_count": 16,
     "metadata": {},
     "output_type": "execute_result"
    }
   ],
   "source": [
    "data_hr.corr().style.background_gradient('coolwarm')"
   ]
  },
  {
   "cell_type": "code",
   "execution_count": 8,
   "metadata": {},
   "outputs": [
    {
     "data": {
      "text/plain": [
       "<AxesSubplot:>"
      ]
     },
     "execution_count": 8,
     "metadata": {},
     "output_type": "execute_result"
    },
    {
     "data": {
      "image/png": "[encoded data removed]",
      "text/plain": [
       "<Figure size 936x432 with 2 Axes>"
      ]
     },
     "metadata": {
      "needs_background": "light"
     },
     "output_type": "display_data"
    }
   ],
   "source": [
    "sns.heatmap(data_hr.corr())"
   ]
  },
  {
   "cell_type": "markdown",
   "metadata": {},
   "source": [
    "#### Вывод:\n",
    "* 2 самые скоррелированные переменные: average_monthly_hours - Среднее количество часов на рабочем месте в месяц и number_projects - Количество проектов, выполненных за время работы (прямая связь)\n",
    "* 2 наимение скоррелированные переменные: promotion_last_5years - повышался ли сотрудник за последние пять лет и average_monthly_hours - Среднее количество часов на рабочем месте в месяц (обратная связь)"
   ]
  },
  {
   "cell_type": "markdown",
   "metadata": {},
   "source": [
    "#### 4. Рассчитайте сколько сотрудников работает в каждом департаменте."
   ]
  },
  {
   "cell_type": "code",
   "execution_count": 25,
   "metadata": {},
   "outputs": [
    {
     "data": {
      "text/plain": [
       "sales          3126\n",
       "technical      2023\n",
       "support        1674\n",
       "IT              954\n",
       "product_mng     704\n",
       "RandD           666\n",
       "marketing       655\n",
       "accounting      563\n",
       "management      539\n",
       "hr              524\n",
       "Name: department, dtype: int64"
      ]
     },
     "execution_count": 25,
     "metadata": {},
     "output_type": "execute_result"
    }
   ],
   "source": [
    "data_hr_work = data_hr[data_hr.left == False]\n",
    "data_hr_work.department.value_counts()"
   ]
  },
  {
   "cell_type": "markdown",
   "metadata": {},
   "source": [
    "#### 5. Показать распределение сотрудников по зарплатам."
   ]
  },
  {
   "cell_type": "code",
   "execution_count": 71,
   "metadata": {},
   "outputs": [
    {
     "data": {
      "text/html": [
       "<div>\n",
       "<style scoped>\n",
       "    .dataframe tbody tr th:only-of-type {\n",
       "        vertical-align: middle;\n",
       "    }\n",
       "\n",
       "    .dataframe tbody tr th {\n",
       "        vertical-align: top;\n",
       "    }\n",
       "\n",
       "    .dataframe thead th {\n",
       "        text-align: right;\n",
       "    }\n",
       "</style>\n",
       "<table border=\"1\" class=\"dataframe\">\n",
       "  <thead>\n",
       "    <tr style=\"text-align: right;\">\n",
       "      <th></th>\n",
       "      <th>Уровень зарплаты</th>\n",
       "      <th>Количество сотрудников</th>\n",
       "    </tr>\n",
       "  </thead>\n",
       "  <tbody>\n",
       "    <tr>\n",
       "      <th>0</th>\n",
       "      <td>low</td>\n",
       "      <td>7316</td>\n",
       "    </tr>\n",
       "    <tr>\n",
       "      <th>1</th>\n",
       "      <td>medium</td>\n",
       "      <td>6446</td>\n",
       "    </tr>\n",
       "    <tr>\n",
       "      <th>2</th>\n",
       "      <td>high</td>\n",
       "      <td>1237</td>\n",
       "    </tr>\n",
       "  </tbody>\n",
       "</table>\n",
       "</div>"
      ],
      "text/plain": [
       "  Уровень зарплаты  Количество сотрудников\n",
       "0              low                    7316\n",
       "1           medium                    6446\n",
       "2             high                    1237"
      ]
     },
     "execution_count": 71,
     "metadata": {},
     "output_type": "execute_result"
    }
   ],
   "source": [
    "df = data_hr.salary.value_counts().reset_index()\n",
    "df.rename(columns={'index':'Уровень зарплаты', 'salary':'Количество сотрудников'}, inplace=True)\n",
    "df"
   ]
  },
  {
   "cell_type": "code",
   "execution_count": 72,
   "metadata": {},
   "outputs": [
    {
     "data": {
      "text/plain": [
       "<AxesSubplot:title={'center':'Распределение сотрудников по зарплатам'}, xlabel='Уровень зарплаты'>"
      ]
     },
     "execution_count": 72,
     "metadata": {},
     "output_type": "execute_result"
    },
    {
     "data": {
      "image/png": "[encoded data removed]",
      "text/plain": [
       "<Figure size 936x432 with 1 Axes>"
      ]
     },
     "metadata": {
      "needs_background": "light"
     },
     "output_type": "display_data"
    }
   ],
   "source": [
    "df.plot.bar( x = 'Уровень зарплаты',  y ='Количество сотрудников',\n",
    "                   title='Распределение сотрудников по зарплатам', color = 'g')"
   ]
  },
  {
   "cell_type": "markdown",
   "metadata": {},
   "source": [
    "#### 6. Показать распределение сотрудников по зарплатам в каждом департаменте по отдельности"
   ]
  },
  {
   "cell_type": "code",
   "execution_count": 8,
   "metadata": {},
   "outputs": [
    {
     "data": {
      "text/html": [
       "<div>\n",
       "<style scoped>\n",
       "    .dataframe tbody tr th:only-of-type {\n",
       "        vertical-align: middle;\n",
       "    }\n",
       "\n",
       "    .dataframe tbody tr th {\n",
       "        vertical-align: top;\n",
       "    }\n",
       "\n",
       "    .dataframe thead th {\n",
       "        text-align: right;\n",
       "    }\n",
       "</style>\n",
       "<table border=\"1\" class=\"dataframe\">\n",
       "  <thead>\n",
       "    <tr style=\"text-align: right;\">\n",
       "      <th>department</th>\n",
       "      <th>IT</th>\n",
       "      <th>RandD</th>\n",
       "      <th>accounting</th>\n",
       "      <th>hr</th>\n",
       "      <th>management</th>\n",
       "      <th>marketing</th>\n",
       "      <th>product_mng</th>\n",
       "      <th>sales</th>\n",
       "      <th>support</th>\n",
       "      <th>technical</th>\n",
       "    </tr>\n",
       "    <tr>\n",
       "      <th>salary</th>\n",
       "      <th></th>\n",
       "      <th></th>\n",
       "      <th></th>\n",
       "      <th></th>\n",
       "      <th></th>\n",
       "      <th></th>\n",
       "      <th></th>\n",
       "      <th></th>\n",
       "      <th></th>\n",
       "      <th></th>\n",
       "    </tr>\n",
       "  </thead>\n",
       "  <tbody>\n",
       "    <tr>\n",
       "      <th>low</th>\n",
       "      <td>609</td>\n",
       "      <td>364</td>\n",
       "      <td>358</td>\n",
       "      <td>335</td>\n",
       "      <td>180</td>\n",
       "      <td>402</td>\n",
       "      <td>451</td>\n",
       "      <td>2099</td>\n",
       "      <td>1146</td>\n",
       "      <td>1372</td>\n",
       "    </tr>\n",
       "    <tr>\n",
       "      <th>medium</th>\n",
       "      <td>535</td>\n",
       "      <td>372</td>\n",
       "      <td>335</td>\n",
       "      <td>359</td>\n",
       "      <td>225</td>\n",
       "      <td>376</td>\n",
       "      <td>383</td>\n",
       "      <td>1772</td>\n",
       "      <td>942</td>\n",
       "      <td>1147</td>\n",
       "    </tr>\n",
       "    <tr>\n",
       "      <th>high</th>\n",
       "      <td>83</td>\n",
       "      <td>51</td>\n",
       "      <td>74</td>\n",
       "      <td>45</td>\n",
       "      <td>225</td>\n",
       "      <td>80</td>\n",
       "      <td>68</td>\n",
       "      <td>269</td>\n",
       "      <td>141</td>\n",
       "      <td>201</td>\n",
       "    </tr>\n",
       "  </tbody>\n",
       "</table>\n",
       "</div>"
      ],
      "text/plain": [
       "department   IT  RandD  accounting   hr  management  marketing  product_mng  \\\n",
       "salary                                                                        \n",
       "low         609    364         358  335         180        402          451   \n",
       "medium      535    372         335  359         225        376          383   \n",
       "high         83     51          74   45         225         80           68   \n",
       "\n",
       "department  sales  support  technical  \n",
       "salary                                 \n",
       "low          2099     1146       1372  \n",
       "medium       1772      942       1147  \n",
       "high          269      141        201  "
      ]
     },
     "execution_count": 8,
     "metadata": {},
     "output_type": "execute_result"
    }
   ],
   "source": [
    "df = pd.DataFrame(data_hr.groupby('department')['salary'].value_counts())\n",
    "df.rename(columns={'salary':'Количество сотрудников'}, inplace=True)\n",
    "df = pd.pivot_table(df.reset_index(), index = 'salary', columns = 'department', values = 'Количество сотрудников')\n",
    "df.reindex(['low', 'medium', 'high'])"
   ]
  },
  {
   "cell_type": "code",
   "execution_count": 10,
   "metadata": {},
   "outputs": [
    {
     "data": {
      "text/plain": [
       "<AxesSubplot:title={'center':'Распределение сотрудников по зарплатам'}, xlabel='salary'>"
      ]
     },
     "execution_count": 10,
     "metadata": {},
     "output_type": "execute_result"
    },
    {
     "data": {
      "image/png": "[encoded data removed]",
      "text/plain": [
       "<Figure size 936x432 with 1 Axes>"
      ]
     },
     "metadata": {
      "needs_background": "light"
     },
     "output_type": "display_data"
    }
   ],
   "source": [
    "df.reindex(['low', 'medium', 'high']).plot.bar(title='Распределение сотрудников по зарплатам')"
   ]
  },
  {
   "cell_type": "markdown",
   "metadata": {},
   "source": [
    "#### 7. Проверить гипотезу, что сотрудники с высоким окладом проводят на работе больше времени, чем сотрудники с низким окладом\n"
   ]
  },
  {
   "cell_type": "code",
   "execution_count": 4,
   "metadata": {},
   "outputs": [],
   "source": [
    "# H0 - Среднее время на работе сотрудников с высоким окладом и сотрудников с низким окладом не отличаются или отличаются незначительно\n",
    "# Ha - сотрудники с высоким окладом проводят на работе больше времени, чем сотрудники с низким окладом\n",
    "# Получаем две независимые выборки\n",
    "data_hours_high_salary = data_hr[['average_montly_hours', 'salary']][(data_hr['salary'] == 'high')]\n",
    "data_hours_low_salary = data_hr[['average_montly_hours', 'salary']][(data_hr['salary'] == 'low')]"
   ]
  },
  {
   "cell_type": "code",
   "execution_count": 55,
   "metadata": {},
   "outputs": [
    {
     "data": {
      "text/plain": [
       "<AxesSubplot:title={'center':'Распределение среднего количества часов на рабочем месте в месяц сотрудников с высоким окладом'}, ylabel='Frequency'>"
      ]
     },
     "execution_count": 55,
     "metadata": {},
     "output_type": "execute_result"
    },
    {
     "data": {
      "image/png": "[encoded data removed]",
      "text/plain": [
       "<Figure size 936x432 with 1 Axes>"
      ]
     },
     "metadata": {
      "needs_background": "light"
     },
     "output_type": "display_data"
    }
   ],
   "source": [
    "# Проверяем распределение выборок\n",
    "data_hours_high_salary.plot.hist(bins = 30, title='Распределение среднего количества часов на рабочем месте в месяц сотрудников с высоким окладом')"
   ]
  },
  {
   "cell_type": "code",
   "execution_count": 56,
   "metadata": {},
   "outputs": [
    {
     "data": {
      "text/plain": [
       "<AxesSubplot:title={'center':'Распределение среднего количества часов на рабочем месте в месяц сотрудников с низким окладом'}, ylabel='Frequency'>"
      ]
     },
     "execution_count": 56,
     "metadata": {},
     "output_type": "execute_result"
    },
    {
     "data": {
      "image/png": "[encoded data removed]",
      "text/plain": [
       "<Figure size 936x432 with 1 Axes>"
      ]
     },
     "metadata": {
      "needs_background": "light"
     },
     "output_type": "display_data"
    }
   ],
   "source": [
    "data_hours_low_salary.plot.hist(bins = 30, title='Распределение среднего количества часов на рабочем месте в месяц сотрудников с низким окладом')"
   ]
  },
  {
   "cell_type": "code",
   "execution_count": null,
   "metadata": {},
   "outputs": [],
   "source": [
    "# Из визуализации не видно, что выборки имеют нормальное распределение\n",
    "# Проверяем нормальность по критерию Андерсона-Дарлинга\n",
    "# H0 - выборки имеют нормальное распределение"
   ]
  },
  {
   "cell_type": "code",
   "execution_count": 47,
   "metadata": {},
   "outputs": [
    {
     "data": {
      "text/plain": [
       "AndersonResult(statistic=10.628515275333484, critical_values=array([0.574, 0.654, 0.784, 0.915, 1.088]), significance_level=array([15. , 10. ,  5. ,  2.5,  1. ]))"
      ]
     },
     "execution_count": 47,
     "metadata": {},
     "output_type": "execute_result"
    }
   ],
   "source": [
    "np.random.seed(41)\n",
    "stats.anderson(data_hours_high_salary['average_montly_hours'])"
   ]
  },
  {
   "cell_type": "code",
   "execution_count": 48,
   "metadata": {},
   "outputs": [
    {
     "data": {
      "text/plain": [
       "AndersonResult(statistic=106.07839458442504, critical_values=array([0.576, 0.656, 0.787, 0.917, 1.091]), significance_level=array([15. , 10. ,  5. ,  2.5,  1. ]))"
      ]
     },
     "execution_count": 48,
     "metadata": {},
     "output_type": "execute_result"
    }
   ],
   "source": [
    "np.random.seed(41)\n",
    "stats.anderson(data_hours_low_salary['average_montly_hours'])"
   ]
  },
  {
   "cell_type": "code",
   "execution_count": null,
   "metadata": {},
   "outputs": [],
   "source": [
    "# Полученные рез-ты критериев 10,63 и 106,08 превышают критические показатели для всех уровней значимости.\n",
    "# Гипотеза, что выборки имеют нормальное распределение, отклоняется."
   ]
  },
  {
   "cell_type": "code",
   "execution_count": null,
   "metadata": {},
   "outputs": [],
   "source": [
    "# Выборки независимые, с количественными данными, не имеют нормального распределения\n",
    "# Применим для сравнения U-тест Манна-Уитни"
   ]
  },
  {
   "cell_type": "code",
   "execution_count": 57,
   "metadata": {},
   "outputs": [
    {
     "data": {
      "text/plain": [
       "MannwhitneyuResult(statistic=4507096.5, pvalue=0.4120665360429347)"
      ]
     },
     "execution_count": 57,
     "metadata": {},
     "output_type": "execute_result"
    }
   ],
   "source": [
    "from scipy.stats import mannwhitneyu\n",
    "A=data_hours_high_salary['average_montly_hours']\n",
    "B=data_hours_low_salary['average_montly_hours']\n",
    "stats.mannwhitneyu(A, B)"
   ]
  },
  {
   "cell_type": "markdown",
   "metadata": {},
   "source": [
    "##### Вывод:\n",
    "* p-value = 0,41 > уровня значимости = 0,05.\n",
    "* Нулевую гипотезу об отсутствии различий в среднем времени, проведённом на работе работниками с высокой и низкой зарплатой, отклонить не можем."
   ]
  },
  {
   "cell_type": "markdown",
   "metadata": {},
   "source": [
    "#### 8. Рассчитать следующие показатели среди уволившихся и не уволившихся сотрудников (по отдельности):\n",
    "\n",
    "* ● Доля сотрудников с повышением за последние 5 лет\n",
    "* ● Средняя степень удовлетворенности\n",
    "* ● Среднее количество проектов\n"
   ]
  },
  {
   "cell_type": "code",
   "execution_count": 58,
   "metadata": {},
   "outputs": [
    {
     "data": {
      "text/html": [
       "<div>\n",
       "<style scoped>\n",
       "    .dataframe tbody tr th:only-of-type {\n",
       "        vertical-align: middle;\n",
       "    }\n",
       "\n",
       "    .dataframe tbody tr th {\n",
       "        vertical-align: top;\n",
       "    }\n",
       "\n",
       "    .dataframe thead th {\n",
       "        text-align: right;\n",
       "    }\n",
       "</style>\n",
       "<table border=\"1\" class=\"dataframe\">\n",
       "  <thead>\n",
       "    <tr style=\"text-align: right;\">\n",
       "      <th></th>\n",
       "      <th>satisfaction_level</th>\n",
       "      <th>promotion_last_5years</th>\n",
       "      <th>number_project</th>\n",
       "      <th>left</th>\n",
       "    </tr>\n",
       "  </thead>\n",
       "  <tbody>\n",
       "    <tr>\n",
       "      <th>0</th>\n",
       "      <td>0.38</td>\n",
       "      <td>0</td>\n",
       "      <td>2</td>\n",
       "      <td>1</td>\n",
       "    </tr>\n",
       "    <tr>\n",
       "      <th>1</th>\n",
       "      <td>0.80</td>\n",
       "      <td>0</td>\n",
       "      <td>5</td>\n",
       "      <td>1</td>\n",
       "    </tr>\n",
       "    <tr>\n",
       "      <th>2</th>\n",
       "      <td>0.11</td>\n",
       "      <td>0</td>\n",
       "      <td>7</td>\n",
       "      <td>1</td>\n",
       "    </tr>\n",
       "    <tr>\n",
       "      <th>3</th>\n",
       "      <td>0.72</td>\n",
       "      <td>0</td>\n",
       "      <td>5</td>\n",
       "      <td>1</td>\n",
       "    </tr>\n",
       "    <tr>\n",
       "      <th>4</th>\n",
       "      <td>0.37</td>\n",
       "      <td>0</td>\n",
       "      <td>2</td>\n",
       "      <td>1</td>\n",
       "    </tr>\n",
       "  </tbody>\n",
       "</table>\n",
       "</div>"
      ],
      "text/plain": [
       "   satisfaction_level  promotion_last_5years  number_project  left\n",
       "0                0.38                      0               2     1\n",
       "1                0.80                      0               5     1\n",
       "2                0.11                      0               7     1\n",
       "3                0.72                      0               5     1\n",
       "4                0.37                      0               2     1"
      ]
     },
     "execution_count": 58,
     "metadata": {},
     "output_type": "execute_result"
    }
   ],
   "source": [
    "data_hr_left = data_hr[['satisfaction_level', 'promotion_last_5years','number_project', 'left']][(data_hr['left'] == True)]\n",
    "data_hr_left.head()"
   ]
  },
  {
   "cell_type": "code",
   "execution_count": 59,
   "metadata": {},
   "outputs": [
    {
     "data": {
      "text/html": [
       "<div>\n",
       "<style scoped>\n",
       "    .dataframe tbody tr th:only-of-type {\n",
       "        vertical-align: middle;\n",
       "    }\n",
       "\n",
       "    .dataframe tbody tr th {\n",
       "        vertical-align: top;\n",
       "    }\n",
       "\n",
       "    .dataframe thead th {\n",
       "        text-align: right;\n",
       "    }\n",
       "</style>\n",
       "<table border=\"1\" class=\"dataframe\">\n",
       "  <thead>\n",
       "    <tr style=\"text-align: right;\">\n",
       "      <th></th>\n",
       "      <th>satisfaction_level</th>\n",
       "      <th>promotion_last_5years</th>\n",
       "      <th>number_project</th>\n",
       "      <th>left</th>\n",
       "    </tr>\n",
       "  </thead>\n",
       "  <tbody>\n",
       "    <tr>\n",
       "      <th>2000</th>\n",
       "      <td>0.58</td>\n",
       "      <td>0</td>\n",
       "      <td>4</td>\n",
       "      <td>0</td>\n",
       "    </tr>\n",
       "    <tr>\n",
       "      <th>2001</th>\n",
       "      <td>0.82</td>\n",
       "      <td>0</td>\n",
       "      <td>2</td>\n",
       "      <td>0</td>\n",
       "    </tr>\n",
       "    <tr>\n",
       "      <th>2002</th>\n",
       "      <td>0.45</td>\n",
       "      <td>0</td>\n",
       "      <td>5</td>\n",
       "      <td>0</td>\n",
       "    </tr>\n",
       "    <tr>\n",
       "      <th>2003</th>\n",
       "      <td>0.78</td>\n",
       "      <td>0</td>\n",
       "      <td>5</td>\n",
       "      <td>0</td>\n",
       "    </tr>\n",
       "    <tr>\n",
       "      <th>2004</th>\n",
       "      <td>0.49</td>\n",
       "      <td>0</td>\n",
       "      <td>3</td>\n",
       "      <td>0</td>\n",
       "    </tr>\n",
       "  </tbody>\n",
       "</table>\n",
       "</div>"
      ],
      "text/plain": [
       "      satisfaction_level  promotion_last_5years  number_project  left\n",
       "2000                0.58                      0               4     0\n",
       "2001                0.82                      0               2     0\n",
       "2002                0.45                      0               5     0\n",
       "2003                0.78                      0               5     0\n",
       "2004                0.49                      0               3     0"
      ]
     },
     "execution_count": 59,
     "metadata": {},
     "output_type": "execute_result"
    }
   ],
   "source": [
    "data_hr_work = data_hr[['satisfaction_level', 'promotion_last_5years','number_project', 'left']][(data_hr['left'] == False)]\n",
    "data_hr_work.head()"
   ]
  },
  {
   "cell_type": "code",
   "execution_count": 123,
   "metadata": {},
   "outputs": [],
   "source": [
    "def point_8(data):\n",
    "    A = 100 * len(data[data.promotion_last_5years != 0])/len(data.promotion_last_5years)\n",
    "    B = data.satisfaction_level.mean()\n",
    "    C = round(data.number_project.mean())\n",
    "    print(f'Доля сотрудников с повышением за последние 5 лет - {A:.2f}%') \n",
    "    print(f'Средняя степень удовлетворенности - {B:.2f}')\n",
    "    print(f'Среднее количество проектов - {C}') \n",
    "       "
   ]
  },
  {
   "cell_type": "code",
   "execution_count": 125,
   "metadata": {},
   "outputs": [
    {
     "name": "stdout",
     "output_type": "stream",
     "text": [
      "Сотрудники уволенные на данный момент:\n",
      "Доля сотрудников с повышением за последние 5 лет - 0.53%\n",
      "Средняя степень удовлетворенности - 0.44\n",
      "Среднее количество проектов - 4\n",
      "\n",
      "Сотрудники работающие на данный момент:\n",
      "Доля сотрудников с повышением за последние 5 лет - 2.63%\n",
      "Средняя степень удовлетворенности - 0.67\n",
      "Среднее количество проектов - 4\n"
     ]
    }
   ],
   "source": [
    "print('Сотрудники уволенные на данный момент:')\n",
    "point_8(data_hr_left)\n",
    "print()\n",
    "print('Сотрудники работающие на данный момент:')\n",
    "point_8(data_hr_work)"
   ]
  },
  {
   "cell_type": "markdown",
   "metadata": {},
   "source": [
    "#### 9. Разделить данные на тестовую и обучающую выборки.\n",
    "####    Построить модель LDA, предсказывающую уволился ли сотрудник на основе имеющихся факторов (кроме department и salary).\n",
    "####    Оценить качество модели на тестовой выборке"
   ]
  },
  {
   "cell_type": "code",
   "execution_count": 130,
   "metadata": {},
   "outputs": [
    {
     "data": {
      "text/html": [
       "<div>\n",
       "<style scoped>\n",
       "    .dataframe tbody tr th:only-of-type {\n",
       "        vertical-align: middle;\n",
       "    }\n",
       "\n",
       "    .dataframe tbody tr th {\n",
       "        vertical-align: top;\n",
       "    }\n",
       "\n",
       "    .dataframe thead th {\n",
       "        text-align: right;\n",
       "    }\n",
       "</style>\n",
       "<table border=\"1\" class=\"dataframe\">\n",
       "  <thead>\n",
       "    <tr style=\"text-align: right;\">\n",
       "      <th></th>\n",
       "      <th>satisfaction_level</th>\n",
       "      <th>last_evaluation</th>\n",
       "      <th>number_project</th>\n",
       "      <th>average_montly_hours</th>\n",
       "      <th>time_spend_company</th>\n",
       "      <th>Work_accident</th>\n",
       "      <th>promotion_last_5years</th>\n",
       "    </tr>\n",
       "  </thead>\n",
       "  <tbody>\n",
       "    <tr>\n",
       "      <th>0</th>\n",
       "      <td>0.38</td>\n",
       "      <td>0.53</td>\n",
       "      <td>2</td>\n",
       "      <td>157</td>\n",
       "      <td>3</td>\n",
       "      <td>0</td>\n",
       "      <td>0</td>\n",
       "    </tr>\n",
       "    <tr>\n",
       "      <th>1</th>\n",
       "      <td>0.80</td>\n",
       "      <td>0.86</td>\n",
       "      <td>5</td>\n",
       "      <td>262</td>\n",
       "      <td>6</td>\n",
       "      <td>0</td>\n",
       "      <td>0</td>\n",
       "    </tr>\n",
       "    <tr>\n",
       "      <th>2</th>\n",
       "      <td>0.11</td>\n",
       "      <td>0.88</td>\n",
       "      <td>7</td>\n",
       "      <td>272</td>\n",
       "      <td>4</td>\n",
       "      <td>0</td>\n",
       "      <td>0</td>\n",
       "    </tr>\n",
       "    <tr>\n",
       "      <th>3</th>\n",
       "      <td>0.72</td>\n",
       "      <td>0.87</td>\n",
       "      <td>5</td>\n",
       "      <td>223</td>\n",
       "      <td>5</td>\n",
       "      <td>0</td>\n",
       "      <td>0</td>\n",
       "    </tr>\n",
       "    <tr>\n",
       "      <th>4</th>\n",
       "      <td>0.37</td>\n",
       "      <td>0.52</td>\n",
       "      <td>2</td>\n",
       "      <td>159</td>\n",
       "      <td>3</td>\n",
       "      <td>0</td>\n",
       "      <td>0</td>\n",
       "    </tr>\n",
       "  </tbody>\n",
       "</table>\n",
       "</div>"
      ],
      "text/plain": [
       "   satisfaction_level  last_evaluation  number_project  average_montly_hours  \\\n",
       "0                0.38             0.53               2                   157   \n",
       "1                0.80             0.86               5                   262   \n",
       "2                0.11             0.88               7                   272   \n",
       "3                0.72             0.87               5                   223   \n",
       "4                0.37             0.52               2                   159   \n",
       "\n",
       "   time_spend_company  Work_accident  promotion_last_5years  \n",
       "0                   3              0                      0  \n",
       "1                   6              0                      0  \n",
       "2                   4              0                      0  \n",
       "3                   5              0                      0  \n",
       "4                   3              0                      0  "
      ]
     },
     "execution_count": 130,
     "metadata": {},
     "output_type": "execute_result"
    }
   ],
   "source": [
    "# загружаем данные в датафрейм\n",
    "data_model = data_hr[['satisfaction_level', 'last_evaluation', 'number_project', 'average_montly_hours', 'time_spend_company', 'Work_accident', 'promotion_last_5years']]\n",
    "data_model.head()"
   ]
  },
  {
   "cell_type": "code",
   "execution_count": 134,
   "metadata": {},
   "outputs": [
    {
     "data": {
      "text/plain": [
       "array([1, 1, 1, ..., 1, 1, 1])"
      ]
     },
     "execution_count": 134,
     "metadata": {},
     "output_type": "execute_result"
    }
   ],
   "source": [
    "data_target = np.asarray(list(data_hr['left']))\n",
    "data_target"
   ]
  },
  {
   "cell_type": "code",
   "execution_count": 135,
   "metadata": {},
   "outputs": [],
   "source": [
    "# разделяем выборку на тренировочную и тестовую\n",
    "\n",
    "from sklearn.model_selection import train_test_split\n",
    "X_train, X_test, y_train, y_test = train_test_split(data_model, data_target, test_size=0.30)"
   ]
  },
  {
   "cell_type": "code",
   "execution_count": 136,
   "metadata": {},
   "outputs": [],
   "source": [
    "# импортируем LDA-функционал\n",
    "from sklearn.discriminant_analysis import LinearDiscriminantAnalysis\n",
    "lda = LinearDiscriminantAnalysis()"
   ]
  },
  {
   "cell_type": "code",
   "execution_count": 137,
   "metadata": {},
   "outputs": [
    {
     "data": {
      "text/plain": [
       "LinearDiscriminantAnalysis()"
      ]
     },
     "execution_count": 137,
     "metadata": {},
     "output_type": "execute_result"
    }
   ],
   "source": [
    "# обучаем данные\n",
    "lda.fit(X_train, y_train)"
   ]
  },
  {
   "cell_type": "code",
   "execution_count": 138,
   "metadata": {},
   "outputs": [
    {
     "data": {
      "text/plain": [
       "array([0, 0, 0, ..., 0, 0, 0])"
      ]
     },
     "execution_count": 138,
     "metadata": {},
     "output_type": "execute_result"
    }
   ],
   "source": [
    "# делаем прогноз на тестовой выборке\n",
    "lda.predict(X_test)"
   ]
  },
  {
   "cell_type": "code",
   "execution_count": 143,
   "metadata": {},
   "outputs": [
    {
     "data": {
      "text/html": [
       "<div>\n",
       "<style scoped>\n",
       "    .dataframe tbody tr th:only-of-type {\n",
       "        vertical-align: middle;\n",
       "    }\n",
       "\n",
       "    .dataframe tbody tr th {\n",
       "        vertical-align: top;\n",
       "    }\n",
       "\n",
       "    .dataframe thead th {\n",
       "        text-align: right;\n",
       "    }\n",
       "</style>\n",
       "<table border=\"1\" class=\"dataframe\">\n",
       "  <thead>\n",
       "    <tr style=\"text-align: right;\">\n",
       "      <th></th>\n",
       "      <th>0</th>\n",
       "      <th>1</th>\n",
       "    </tr>\n",
       "  </thead>\n",
       "  <tbody>\n",
       "    <tr>\n",
       "      <th>0</th>\n",
       "      <td>0</td>\n",
       "      <td>0</td>\n",
       "    </tr>\n",
       "    <tr>\n",
       "      <th>1</th>\n",
       "      <td>0</td>\n",
       "      <td>0</td>\n",
       "    </tr>\n",
       "    <tr>\n",
       "      <th>2</th>\n",
       "      <td>0</td>\n",
       "      <td>0</td>\n",
       "    </tr>\n",
       "    <tr>\n",
       "      <th>3</th>\n",
       "      <td>0</td>\n",
       "      <td>0</td>\n",
       "    </tr>\n",
       "    <tr>\n",
       "      <th>4</th>\n",
       "      <td>0</td>\n",
       "      <td>0</td>\n",
       "    </tr>\n",
       "    <tr>\n",
       "      <th>5</th>\n",
       "      <td>1</td>\n",
       "      <td>0</td>\n",
       "    </tr>\n",
       "    <tr>\n",
       "      <th>6</th>\n",
       "      <td>1</td>\n",
       "      <td>0</td>\n",
       "    </tr>\n",
       "    <tr>\n",
       "      <th>7</th>\n",
       "      <td>0</td>\n",
       "      <td>0</td>\n",
       "    </tr>\n",
       "    <tr>\n",
       "      <th>8</th>\n",
       "      <td>0</td>\n",
       "      <td>0</td>\n",
       "    </tr>\n",
       "    <tr>\n",
       "      <th>9</th>\n",
       "      <td>1</td>\n",
       "      <td>0</td>\n",
       "    </tr>\n",
       "    <tr>\n",
       "      <th>10</th>\n",
       "      <td>0</td>\n",
       "      <td>0</td>\n",
       "    </tr>\n",
       "    <tr>\n",
       "      <th>11</th>\n",
       "      <td>1</td>\n",
       "      <td>0</td>\n",
       "    </tr>\n",
       "    <tr>\n",
       "      <th>12</th>\n",
       "      <td>1</td>\n",
       "      <td>0</td>\n",
       "    </tr>\n",
       "    <tr>\n",
       "      <th>13</th>\n",
       "      <td>0</td>\n",
       "      <td>0</td>\n",
       "    </tr>\n",
       "    <tr>\n",
       "      <th>14</th>\n",
       "      <td>0</td>\n",
       "      <td>0</td>\n",
       "    </tr>\n",
       "    <tr>\n",
       "      <th>15</th>\n",
       "      <td>0</td>\n",
       "      <td>1</td>\n",
       "    </tr>\n",
       "    <tr>\n",
       "      <th>16</th>\n",
       "      <td>0</td>\n",
       "      <td>0</td>\n",
       "    </tr>\n",
       "    <tr>\n",
       "      <th>17</th>\n",
       "      <td>1</td>\n",
       "      <td>1</td>\n",
       "    </tr>\n",
       "    <tr>\n",
       "      <th>18</th>\n",
       "      <td>1</td>\n",
       "      <td>0</td>\n",
       "    </tr>\n",
       "    <tr>\n",
       "      <th>19</th>\n",
       "      <td>1</td>\n",
       "      <td>0</td>\n",
       "    </tr>\n",
       "  </tbody>\n",
       "</table>\n",
       "</div>"
      ],
      "text/plain": [
       "    0  1\n",
       "0   0  0\n",
       "1   0  0\n",
       "2   0  0\n",
       "3   0  0\n",
       "4   0  0\n",
       "5   1  0\n",
       "6   1  0\n",
       "7   0  0\n",
       "8   0  0\n",
       "9   1  0\n",
       "10  0  0\n",
       "11  1  0\n",
       "12  1  0\n",
       "13  0  0\n",
       "14  0  0\n",
       "15  0  1\n",
       "16  0  0\n",
       "17  1  1\n",
       "18  1  0\n",
       "19  1  0"
      ]
     },
     "execution_count": 143,
     "metadata": {},
     "output_type": "execute_result"
    }
   ],
   "source": [
    "# смотрим разницу факта и прогноза\n",
    "result = pd.DataFrame([y_test, lda.predict(X_test)]).T\n",
    "result.head(20)"
   ]
  },
  {
   "cell_type": "code",
   "execution_count": 169,
   "metadata": {},
   "outputs": [
    {
     "name": "stdout",
     "output_type": "stream",
     "text": [
      "Точность модели - 76.13%\n"
     ]
    }
   ],
   "source": [
    "# расчет точности - отношение верных прогнозов к общему количеству позиций\n",
    "from sklearn.metrics import accuracy_score\n",
    "print(f'Точность модели - {accuracy_score(y_test, lda.predict(X_test)):.2%}')"
   ]
  },
  {
   "cell_type": "code",
   "execution_count": 188,
   "metadata": {},
   "outputs": [
    {
     "data": {
      "text/plain": [
       "array([[-4.49211289e+00,  7.26591860e-01, -2.42207768e-01,\n",
       "         3.80263675e-03,  2.26958944e-01, -1.04834994e+00,\n",
       "        -1.15185691e+00]])"
      ]
     },
     "execution_count": 188,
     "metadata": {},
     "output_type": "execute_result"
    }
   ],
   "source": [
    "# коэффициенты дискриминатных линий\n",
    "lda.coef_"
   ]
  },
  {
   "cell_type": "markdown",
   "metadata": {},
   "source": [
    "#### Вывод:\n",
    "*    Точность модели - 76,13 %\n",
    "*    Наиболее сильный фактор (обратная зависимость (-4,49)), влияющий на увольнение, является удовлетворённость работой."
   ]
  }
 ],
 "metadata": {
  "kernelspec": {
   "display_name": "Python 3",
   "language": "python",
   "name": "python3"
  },
  "language_info": {
   "codemirror_mode": {
    "name": "ipython",
    "version": 3
   },
   "file_extension": ".py",
   "mimetype": "text/x-python",
   "name": "python",
   "nbconvert_exporter": "python",
   "pygments_lexer": "ipython3",
   "version": "3.8.3"
  }
 },
 "nbformat": 4,
 "nbformat_minor": 4
}
