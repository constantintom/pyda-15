{
 "cells": [
  {
   "cell_type": "markdown",
   "metadata": {},
   "source": [
    "# Домашнее задание к лекции «Исключения и обработка ошибок»\n",
    "# Преподаватель: Константин Башевой"
   ]
  },
  {
   "cell_type": "markdown",
   "metadata": {},
   "source": [
    "# Задание 1"
   ]
  },
  {
   "cell_type": "code",
   "execution_count": null,
   "metadata": {},
   "outputs": [],
   "source": [
    "# Печатные газеты использовали свой формат дат для каждого выпуска.\n",
    "# Для каждой газеты из списка напишите формат указанной даты для перевода в объект datetime:\n",
    "from datetime import datetime \n",
    "text = '''The Moscow Times - Wednesday, October 2, 2002\n",
    "The Guardian - Friday, 11.10.13\n",
    "Daily News - Thursday, 18 August 1977'''\n",
    "text = text.split('\\n')\n",
    "text_date = []\n",
    "for j, i in enumerate(text):\n",
    "    i = i.split('- ')\n",
    "    if j == 0:\n",
    "        m_times = datetime.strptime(i[1], '%A, %B %d, %Y')\n",
    "        print(f'{i[0]} - {m_times}')\n",
    "    elif j == 1:\n",
    "        guard = datetime.strptime(i[1], '%A, %m.%d.%y')\n",
    "        print(f'{i[0]} - {guard}')\n",
    "    elif j == 2:\n",
    "        d_news = datetime.strptime(i[1], '%A, %d %B %Y')\n",
    "        print(f'{i[0]} - {d_news}')\n",
    "\n"
   ]
  },
  {
   "cell_type": "markdown",
   "metadata": {},
   "source": [
    "# Задание 2"
   ]
  },
  {
   "cell_type": "code",
   "execution_count": null,
   "metadata": {},
   "outputs": [],
   "source": [
    "# Дан поток дат в формате YYYY-MM-DD, в которых встречаются некорректные значения:\n",
    "# stream = [‘2018-04-02’, ‘2018-02-29’, ‘2018-19-02’]\n",
    "# Напишите функцию, которая проверяет эти даты на корректность.\n",
    "# Т. е. для каждой даты возвращает True (дата корректна) или False (некорректная дата).\n",
    "from datetime import datetime\n",
    "\n",
    "stream = ['2018-04-02', '2018-02-29', '2018-19-02']\n",
    "for i in stream:\n",
    "    fun_stream(i)\n",
    "    \n",
    "def fun_stream(i_date):    \n",
    "    try:\n",
    "        f_date = datetime.strptime(i, '%Y-%m-%d')     \n",
    "        return print(True)\n",
    "    except ValueError:\n",
    "        return print(False)\n",
    "        \n"
   ]
  },
  {
   "cell_type": "markdown",
   "metadata": {},
   "source": [
    "# Задание 3\n",
    "\n"
   ]
  },
  {
   "cell_type": "code",
   "execution_count": null,
   "metadata": {},
   "outputs": [],
   "source": [
    "# Напишите функцию date_range, которая возвращает список дат за период от start_date до end_date.\n",
    "# Даты должны вводиться в формате YYYY-MM-DD.\n",
    "# В случае неверного формата или при start_date > end_date должен возвращаться пустой список.\n",
    "def date_range():\n",
    "    from datetime import datetime, timedelta\n",
    "    try:\n",
    "        start_date = datetime.strptime(input('Введите начальную дату'), '%Y-%m-%d')\n",
    "        end_date = datetime.strptime(input('Введите конечную дату'), '%Y-%m-%d')\n",
    "        date_range = []\n",
    "        if start_date > end_date:\n",
    "            return []\n",
    "        else:\n",
    "            while start_date < end_date:\n",
    "                start_date += timedelta(days=1)\n",
    "                date_range += [datetime.strftime(start_date, '%Y-%m-%d')]              \n",
    "        return date_range\n",
    "    except ValueError:\n",
    "        return []       \n",
    "    \n",
    "print(date_range())"
   ]
  },
  {
   "cell_type": "markdown",
   "metadata": {},
   "source": [
    "# Задание 4 (бонусное)"
   ]
  },
  {
   "cell_type": "code",
   "execution_count": null,
   "metadata": {},
   "outputs": [],
   "source": [
    "Ваш коллега прислал код функции:\n",
    "\n",
    "DEFAULT_USER_COUNT = 3\n",
    "\n",
    "def delete_and_return_last_user(region, default_list=[‘A100’, ‘A101’, ‘A102’]):\n",
    "\"\"“\n",
    "Удаляет из списка default_list последнего пользователя\n",
    "и возвращает ID нового последнего пользователя.\n",
    "”\"\"\n",
    "element_to_delete = default_list[-1]\n",
    "default_list.remove(element_to_delete)\n",
    "\n",
    "return default_list[DEFAULT_USER_COUNT-2]\n",
    "При однократном вызове этой функции все работает корректно:\n",
    "delete_and_return_last_user(1)\n",
    "‘A101’\n",
    "\n",
    "Однако, при повторном вызове получается ошибка IndexError: list index out of range.\n",
    "\n",
    "Задание:\n",
    "\n",
    "Что значит ошибка list index out of range?\n",
    "Почему при первом запуске функция работает корректно, а при втором - нет?"
   ]
  },
  {
   "cell_type": "code",
   "execution_count": null,
   "metadata": {},
   "outputs": [],
   "source": [
    "Ответ: Ошибка означает, что искомого индекса элемента нет в списке.\n",
    "       Потому, что переменная DEFAULT_USER_COUNT не изменилась при вызове функции.\n",
    "       При первом запуске индекс был равен 1, и при втором равен 1, но элемента с таким индексом в списке нет."
   ]
  },
  {
   "cell_type": "code",
   "execution_count": null,
   "metadata": {},
   "outputs": [],
   "source": [
    "# Вариант решения\n",
    "DEFAULT_USER_COUNT = 3\n",
    "def delete_and_return_last_user(region, default_list=['A100', 'A101', 'A102']):\n",
    "    element_to_delete = default_list[-1]\n",
    "    default_list.remove(element_to_delete)\n",
    "    return default_list[DEFAULT_USER_COUNT - 2]\n",
    "\n",
    "i = 0\n",
    "while i<2:      \n",
    "    print(delete_and_return_last_user(1))\n",
    "    DEFAULT_USER_COUNT -= 2\n",
    "    i += 1\n"
   ]
  }
 ],
 "metadata": {
  "kernelspec": {
   "display_name": "Python 3",
   "language": "python",
   "name": "python3"
  },
  "language_info": {
   "codemirror_mode": {
    "name": "ipython",
    "version": 3
   },
   "file_extension": ".py",
   "mimetype": "text/x-python",
   "name": "python",
   "nbconvert_exporter": "python",
   "pygments_lexer": "ipython3",
   "version": "3.8.3"
  }
 },
 "nbformat": 4,
 "nbformat_minor": 4
}
