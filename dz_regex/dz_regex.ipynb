{
 "cells": [
  {
   "cell_type": "markdown",
   "metadata": {},
   "source": [
    "# Домашнее задание к лекции \"Регулярные выражения\"\n",
    "### Внимание! При реализации всех заданий необходимо использовать именно функционал регулярных выражений для обработки текста.\n"
   ]
  },
  {
   "cell_type": "markdown",
   "metadata": {},
   "source": [
    "# Задание 1\n",
    "'''Напишите функцию, которая принимает на вход строку и \n",
    "проверяет является ли она валидным транспортным номером (1 буква, 3 цифры, 2 буквы, 2-3 цифры).\n",
    "Обратите внимание, что не все буквы кириллического алфавита используются в транспортных номерах.\n",
    "\n",
    "Если номер валиден, то функция должна возвращать отдельно номер и регион.\n",
    "\n",
    "Примеры работы программы:\n",
    "\n",
    "car_id = 'A222BC96'\n",
    "Результат: Номер A222BС валиден. Регион: 96\n",
    "car_id = 'АБ22ВВ193'\n",
    "Результат: Номер не валиден'''"
   ]
  },
  {
   "cell_type": "code",
   "execution_count": null,
   "metadata": {},
   "outputs": [],
   "source": [
    "def car_id(car_id):\n",
    "    import re\n",
    "    car_id = re.findall(r'[А, В, Е, К, М, Н, О, Р, С, Т, У, Х]\\d{3}[А, В, Е, К, М, Н, О, Р, С, Т, У, Х]{2}\\d{2,3}$', car_id)\n",
    "    if car_id:\n",
    "        print(f'Номер {car_id[0][:6]} валиден. Регион: {car_id[0][6:]}')\n",
    "    else:      \n",
    "        print('Номер не валиден')\n",
    "        \n",
    "        \n",
    "car_id(input('Введите номер:'))"
   ]
  },
  {
   "cell_type": "markdown",
   "metadata": {},
   "source": [
    "# Задание 2"
   ]
  },
  {
   "cell_type": "code",
   "execution_count": null,
   "metadata": {},
   "outputs": [],
   "source": [
    "'''Напишите функцию, которая будет удалять все последовательные повторы слов из заданной строки\n",
    "при помощи регулярных выражений.'''\n",
    "\n",
    "## Пример работы программы:\n",
    "\n",
    "some_string = 'Напишите функцию функцию, которая будет будет будет будет\\n\n",
    "удалять все все все все последовательные повторы слов из из из из заданной\\n\n",
    "строки строки при помощи регулярных выражений.'\n",
    "\n",
    "### Результат:\n",
    "### Напишите функцию, которая будет удалять все последовательные повторы слов из заданной строки при помощи регулярных \n",
    "### выражений."
   ]
  },
  {
   "cell_type": "code",
   "execution_count": null,
   "metadata": {},
   "outputs": [],
   "source": [
    "some_string = 'Напишите функцию функцию, которая будет будет будет будет удалять все все все все последовательные повторы слов из из из из заданной строки строки при помощи регулярных выражений.'\n",
    "def some_str(some_string):\n",
    "    import re\n",
    "    return print(re.sub(r'\\b(\\w+)(\\s+\\1)+\\b',  r'\\1', some_string))\n",
    "some_str(some_string)"
   ]
  },
  {
   "cell_type": "markdown",
   "metadata": {},
   "source": [
    "# Задание 3"
   ]
  },
  {
   "cell_type": "code",
   "execution_count": null,
   "metadata": {},
   "outputs": [],
   "source": [
    "# Напишите функцию, которая будет возвращать акроним по переданной в нее строке со словами.\n",
    "\n",
    "Примеры работы программы:\n",
    "\n",
    "some_words = 'Информационные технологии'\n",
    "Результат: ИТ\n",
    "\n",
    "some_words = 'Near Field Communication'\n",
    "Результат: NFC"
   ]
  },
  {
   "cell_type": "code",
   "execution_count": null,
   "metadata": {},
   "outputs": [],
   "source": [
    "some_words = 'Near Field Communication'\n",
    "\n",
    "def words(some_words):\n",
    "    import re\n",
    "    return print(''.join(re.findall(r'\\b(\\w{1})', some_words.upper())))\n",
    "\n",
    "words(some_words)\n"
   ]
  },
  {
   "cell_type": "markdown",
   "metadata": {},
   "source": [
    "# Задание 4"
   ]
  },
  {
   "cell_type": "code",
   "execution_count": null,
   "metadata": {},
   "outputs": [],
   "source": [
    "# Напишите функцию, которая будет принимать на вход список email-адресов и выводить их распределение по доменным зонам.\n",
    "\n",
    "Пример работы программы:\n",
    "\n",
    "emails = ['test@gmail.com', 'xyz@test.in', 'test@ya.ru', 'xyz@mail.ru', 'xyz@ya.ru', 'xyz@gmail.com']\n",
    "\n",
    "Результат:\n",
    "\n",
    "gmail.com: 2\n",
    "test.in: 1 \n",
    "ya.ru: 2 \n",
    "mail.ru: 1\n",
    " "
   ]
  },
  {
   "cell_type": "code",
   "execution_count": null,
   "metadata": {},
   "outputs": [],
   "source": [
    "emails = ['test@gmail.com', 'xyz@test.in', 'test@ya.ru', 'xyz@mail.ru', 'xyz@ya.ru', 'xyz@gmail.com']\n",
    "\n",
    "def domen(emails):\n",
    "    import re\n",
    "    domen = ', '.join(emails)\n",
    "    print('Результат:')\n",
    "    for i in set(re.findall(r'@(\\w+.\\w+)', domen)):\n",
    "        print(f'{i}: {len(re.findall(i, domen))}')\n",
    "    \n",
    "domen(emails)"
   ]
  },
  {
   "cell_type": "markdown",
   "metadata": {},
   "source": [
    "# Задание 5 (необязательное)"
   ]
  },
  {
   "cell_type": "code",
   "execution_count": null,
   "metadata": {},
   "outputs": [],
   "source": [
    "## Напишите функцию, которая будет подсчитывать сколько слов начинается на гласные, а сколько на согласные буквы в тексте (текст может быть написан как с использованием букв кириллицы, так и латиницы).\n",
    "\n",
    "### Пример работы программы:\n",
    "\n",
    "some_text = 'Эталонной реализацией Python является интерпретатор CPython, поддерживающий большинство активно используемых платформ. Он распространяется под свободной лицензией Python Software Foundation License, позволяющей использовать его без ограничений в любых приложениях, включая проприетарные.'\n",
    "\n",
    "Результат:\n",
    "\n",
    "Слов на гласные буквы: 9\n",
    "Слов на согласные буквы: 21"
   ]
  },
  {
   "cell_type": "code",
   "execution_count": null,
   "metadata": {},
   "outputs": [],
   "source": [
    "some_text = 'Эталонной реализацией Python является интерпретатор CPython, поддерживающий большинство активно используемых платформ. Он распространяется под свободной лицензией Python Software Foundation License, позволяющей использовать его без ограничений в любых приложениях, включая проприетарные.'\n",
    "\n",
    "def letters(some_text):\n",
    "    import re\n",
    "    vowels = (re.findall(r'\\b[aeiouауоыиэяюёе]\\w+', some_text, re.I))\n",
    "    consonants = re.findall(r'\\b[^aeiouауоыиэяюёе,. ]\\w*', some_text, re.I)\n",
    "    print(f'Слов на гласные буквы: {len(vowels)}')\n",
    "    print(f'Слов на согласные буквы: {len(consonants)}')\n",
    "letters(some_text)"
   ]
  },
  {
   "cell_type": "markdown",
   "metadata": {},
   "source": [
    "# Задание 6 (необязательное)"
   ]
  },
  {
   "cell_type": "code",
   "execution_count": null,
   "metadata": {},
   "outputs": [],
   "source": [
    "Напишите функцию, которая будет проверять номер сотового телефона на валидность (только для российского формата), если он валиден, то переводить его в формат:\n",
    "+7-xxx-xxx-xx-xx\n",
    "Постарайтесь предусмотреть как можно больше адекватных форматов изначального ввода номера. Примеры работы программы:\n",
    "\n",
    "phone = '+7 955 555-55-55'\n",
    "Результат: +7-950-555-55-55\n",
    "\n",
    "phone = '8(955)555-55-55'\n",
    "Результат: +7-950-555-55-55\n",
    "\n",
    "phone = '+7 955 555 55 55'\n",
    "Результат: +7-950-555-55-55\n",
    "\n",
    "phone = '7(955) 555-55-55'\n",
    "Результат: +7-950-555-55-55\n",
    "\n",
    "phone = '423-555-55-5555'\n",
    "Результат: Номер не валиден\n",
    "\n",
    "phone = '123-456-789'\n",
    "Результат: Номер не валиден"
   ]
  },
  {
   "cell_type": "code",
   "execution_count": null,
   "metadata": {},
   "outputs": [],
   "source": [
    "phone = '123-456-789'\n",
    "\n",
    "def val(phone):\n",
    "    number = re.findall(r'\\d', phone)    \n",
    "    if (7 <= int(number[0]) <= 8) and len(number) == 11:\n",
    "        print(f'Результат: +7-{\"\".join(number[1:4])}-{\"\".join(number[4:7])}-{\"\".join(number[7:9])}-{\"\".join(number[9:])}')       \n",
    "    elif int(number[0]) == 9 and len(number) == 10:\n",
    "        print(f'Результат: +7-{\"\".join(number[:3])}-{\"\".join(number[3:6])}-{\"\".join(number[6:8])}-{\"\".join(number[8:])}')\n",
    "    else:\n",
    "        print('Результат: Номер не валиден')\n",
    "val(phone)\n",
    "\n"
   ]
  }
 ],
 "metadata": {
  "kernelspec": {
   "display_name": "Python 3",
   "language": "python",
   "name": "python3"
  },
  "language_info": {
   "codemirror_mode": {
    "name": "ipython",
    "version": 3
   },
   "file_extension": ".py",
   "mimetype": "text/x-python",
   "name": "python",
   "nbconvert_exporter": "python",
   "pygments_lexer": "ipython3",
   "version": "3.8.3"
  }
 },
 "nbformat": 4,
 "nbformat_minor": 4
}
