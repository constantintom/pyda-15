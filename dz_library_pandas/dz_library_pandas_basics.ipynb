{
 "cells": [
  {
   "cell_type": "markdown",
   "metadata": {},
   "source": [
    "# Домашнее задание «Библиотека Pandas»\n",
    "### Преподаватель: Константин Башевой"
   ]
  },
  {
   "cell_type": "markdown",
   "metadata": {},
   "source": [
    "#### Задание 1\n",
    "Скачайте с сайта https://grouplens.org/datasets/movielens/ датасет любого размера.\n",
    "Определите какому фильму было выставлено больше всего оценок 5.0."
   ]
  },
  {
   "cell_type": "code",
   "execution_count": 486,
   "metadata": {},
   "outputs": [
    {
     "data": {
      "text/plain": [
       "Shawshank Redemption, The (1994)    170\n",
       "Name: title, dtype: int64"
      ]
     },
     "execution_count": 486,
     "metadata": {},
     "output_type": "execute_result"
    }
   ],
   "source": [
    "# 1st- Variant\n",
    "import pandas as pd\n",
    "ratings = pd.read_csv('D:/DATA_SCIENCE/dataset/ml-latest-small/ratings.csv')\n",
    "# читаем файл с фильмами\n",
    "movies = pd.read_csv('D:/DATA_SCIENCE/dataset/ml-latest-small/movies.csv')\n",
    "# Объединяем записи таблиц\n",
    "joined = ratings.merge(movies, on='movieId', how='left')\n",
    "# Находим все строки с фильмами с  рейтингом  = 5, подсчитываем кол-во оценок по каждому фильму и берём верхнее значение\n",
    "joined.title[joined.rating == 5].value_counts().head(1)\n"
   ]
  },
  {
   "cell_type": "code",
   "execution_count": 487,
   "metadata": {},
   "outputs": [
    {
     "name": "stdout",
     "output_type": "stream",
     "text": [
      "Shawshank Redemption, The (1994)\n"
     ]
    }
   ],
   "source": [
    "# 2d - Variant\n",
    "import pandas as pd\n",
    "ratings = pd.read_csv('D:/DATA_SCIENCE/dataset/ml-latest-small/ratings.csv')\n",
    "# читаем файл с фильмами\n",
    "movies = pd.read_csv('D:/DATA_SCIENCE/dataset/ml-latest-small/movies.csv')\n",
    "# Объединяем записи таблиц\n",
    "# Группируем фильмы по Id с  рейтингом  = 5, подсчитываем кол-во оценок по каждому фильму и сортируем по убыванию\n",
    "mov= ratings[ratings.rating == 5].groupby('movieId').count().sort_values('rating', ascending = False)\n",
    "# Объединяем записи таблиц\n",
    "print(mov.merge(movies, on='movieId', how='left').title[0])\n"
   ]
  },
  {
   "cell_type": "markdown",
   "metadata": {},
   "source": [
    "#### Задание 2\n",
    "По данным файла power.csv посчитайте суммарное потребление стран Прибалтики (Латвия, Литва и Эстония) категорий 4, 12 и 21 за период с 2005 по 2010 года.\n",
    "Не учитывайте в расчетах отрицательные значения quantity."
   ]
  },
  {
   "cell_type": "code",
   "execution_count": 488,
   "metadata": {},
   "outputs": [
    {
     "name": "stdout",
     "output_type": "stream",
     "text": [
      "Суммарное потребление стран Прибалтики: 240580.0\n"
     ]
    }
   ],
   "source": [
    "import pandas as pd\n",
    "power = pd.read_csv('D:/DATA_SCIENCE/dataset/10_dz_pandas/power.csv')\n",
    "pcry = (power['country'] == 'Latvia') | (power['country'] == 'Lithuania') | (power['country'] =='Estonia')\n",
    "pcat = (power['category'] == 4) | (power['category'] == 12) | (power['category'] == 21)\n",
    "sum_ = power[pcry & pcat & (power.quantity >= 0) & (power.year >= 2005) & (power.year <= 2010)]\n",
    "print(f'Суммарное потребление стран Прибалтики: {sum_.quantity.sum()}')"
   ]
  },
  {
   "cell_type": "markdown",
   "metadata": {},
   "source": [
    "#### Задание 3\n",
    "Выберите страницу любого сайта с табличными данными.\n",
    "Импортируйте таблицы в pandas dataframe.\n",
    "Примеры страниц (необязательно брать именно эти):\n",
    "https://fortrader.org/quotes\n",
    "https://www.finanz.ru/valyuty/v-realnom-vremeni"
   ]
  },
  {
   "cell_type": "code",
   "execution_count": 490,
   "metadata": {},
   "outputs": [
    {
     "name": "stdout",
     "output_type": "stream",
     "text": [
      "Торги в реальном времени\n",
      "Нефть (Brent) - Котировки - USD/Баррель\n",
      "\n"
     ]
    },
    {
     "data": {
      "text/html": [
       "<div>\n",
       "<style scoped>\n",
       "    .dataframe tbody tr th:only-of-type {\n",
       "        vertical-align: middle;\n",
       "    }\n",
       "\n",
       "    .dataframe tbody tr th {\n",
       "        vertical-align: top;\n",
       "    }\n",
       "\n",
       "    .dataframe thead th {\n",
       "        text-align: right;\n",
       "    }\n",
       "</style>\n",
       "<table border=\"1\" class=\"dataframe\">\n",
       "  <thead>\n",
       "    <tr style=\"text-align: right;\">\n",
       "      <th></th>\n",
       "      <th>Время</th>\n",
       "      <th>06:56</th>\n",
       "      <th>Дата</th>\n",
       "      <th>20.11.2020</th>\n",
       "    </tr>\n",
       "  </thead>\n",
       "  <tbody>\n",
       "    <tr>\n",
       "      <th>0</th>\n",
       "      <td>Открытие</td>\n",
       "      <td>4415</td>\n",
       "      <td>Пред. закр.</td>\n",
       "      <td>4417</td>\n",
       "    </tr>\n",
       "    <tr>\n",
       "      <th>1</th>\n",
       "      <td>Минимум</td>\n",
       "      <td>4405</td>\n",
       "      <td>Максимум</td>\n",
       "      <td>4431</td>\n",
       "    </tr>\n",
       "    <tr>\n",
       "      <th>2</th>\n",
       "      <td>Мин. 52 нед.</td>\n",
       "      <td>1598</td>\n",
       "      <td>Макс. 52 нед.</td>\n",
       "      <td>7175</td>\n",
       "    </tr>\n",
       "  </tbody>\n",
       "</table>\n",
       "</div>"
      ],
      "text/plain": [
       "          Время  06:56           Дата  20.11.2020\n",
       "0      Открытие   4415    Пред. закр.        4417\n",
       "1       Минимум   4405       Максимум        4431\n",
       "2  Мин. 52 нед.   1598  Макс. 52 нед.        7175"
      ]
     },
     "execution_count": 490,
     "metadata": {},
     "output_type": "execute_result"
    }
   ],
   "source": [
    "page_url = 'https://www.finanz.ru/birzhevyye-tovary/neft-cena'\n",
    "df = pd.read_html(page_url, encoding = 'utf-8', header = 0)\n",
    "print('Торги в реальном времени' '\\n''Нефть (Brent) - Котировки - USD/Баррель' '\\n' )\n",
    "df[3]"
   ]
  }
 ],
 "metadata": {
  "kernelspec": {
   "display_name": "Python 3",
   "language": "python",
   "name": "python3"
  },
  "language_info": {
   "codemirror_mode": {
    "name": "ipython",
    "version": 3
   },
   "file_extension": ".py",
   "mimetype": "text/x-python",
   "name": "python",
   "nbconvert_exporter": "python",
   "pygments_lexer": "ipython3",
   "version": "3.8.3"
  }
 },
 "nbformat": 4,
 "nbformat_minor": 4
}
