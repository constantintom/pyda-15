{
 "cells": [
  {
   "cell_type": "markdown",
   "metadata": {},
   "source": [
    "### Упражнение\n",
    "Напишите функцию (или просто код), который возвращает список из первых N строк файла purchase_log.txt без записи всего содержимого файла в оперативную память."
   ]
  },
  {
   "cell_type": "code",
   "execution_count": null,
   "metadata": {},
   "outputs": [],
   "source": [
    "def n_list():\n",
    "    import json\n",
    "    n = int(input('Введите число строк:')) - 1\n",
    "    f = open('purchase_log.txt', 'r', encoding='utf-8')\n",
    "    f.readline()\n",
    "    for e, line in enumerate(f):    \n",
    "        line = line.strip()\n",
    "        dict_ = json.loads(line)\n",
    "        print(dict_['user_id'], dict_['category'])\n",
    "        if e == n:\n",
    "            break        \n",
    "    f.close()   \n",
    "n_list()"
   ]
  },
  {
   "cell_type": "markdown",
   "metadata": {},
   "source": [
    "### А можно читать и сразу в файл записывать?\n",
    "Напишите функцию, которая фильтрует файл visit_log.csv по источнику context и пишет результат в visits_context.csv. Используйте функцию из второго упражнения для проверки результата."
   ]
  },
  {
   "cell_type": "code",
   "execution_count": null,
   "metadata": {},
   "outputs": [],
   "source": [
    "def context():    \n",
    "    context = input('Введите контекст:')\n",
    "    f = open('visit_log.csv', 'r', encoding = 'utf-8')\n",
    "    i = f.readline()\n",
    "    with open('visits_context.csv', 'w', encoding = 'utf-8') as f2write:\n",
    "        f2write.write(i)\n",
    "        [f2write.write(line) for line in f if context in line]         \n",
    "    f.close()\n",
    "    f2 = open('visits_context.csv', 'r', encoding='utf-8')\n",
    "    f2.readline()\n",
    "    n = int(input('Введите число строк:')) - 1\n",
    "    for e, line in enumerate(f2):\n",
    "        if  e != n: \n",
    "            print(line.strip())\n",
    "        else:\n",
    "            break       \n",
    "    f2.close()   \n",
    "context()"
   ]
  },
  {
   "cell_type": "markdown",
   "metadata": {},
   "source": [
    "# Домашнее задание\n",
    "1. Переведите содержимое файла purchase_log.txt в словарь purchases вида:\n",
    "```python\n",
    "{'1840e0b9d4': 'Продукты', ...}\n",
    "```\n",
    "\n",
    "2. Для каждого user_id в файле visit_log.csv определите третий столбец с категорией покупки (если покупка была, сам файл visit_log.csv изменять не надо). Запишите в файл funnel.csv визиты из файла visit_log.csv, в которых были покупки с указанием категории.\n",
    "\n",
    "Учтите условия на данные:\n",
    "- содержимое purchase_log.txt помещается в оперативную память компьютера\n",
    "- содержимое visit_log.csv - нет; используйте только построчную обработку этого файла"
   ]
  },
  {
   "cell_type": "code",
   "execution_count": null,
   "metadata": {},
   "outputs": [],
   "source": [
    "import json\n",
    "purchases = {}\n",
    "f  = open('purchase_log.txt', 'r', encoding = 'utf-8')\n",
    "content = f.readlines()\n",
    "for line in content[1:]: \n",
    "    line = line.strip()\n",
    "    dict_ = json.loads(line)\n",
    "    purchases[dict_[\"user_id\"]] = dict_[\"category\"]\n",
    "f.close()\n",
    "print(purchases)\n"
   ]
  },
  {
   "cell_type": "code",
   "execution_count": null,
   "metadata": {},
   "outputs": [],
   "source": [
    "f = open('visit_log.csv', 'r', encoding = 'utf-8')\n",
    "i = f.readline()\n",
    "with open('funnel.csv', 'w', encoding = 'utf-8') as f2write:\n",
    "    f2write.write(i)\n",
    "    [f2write.write(line) for line in f if 'None' not in line]         \n",
    "f.close()\n"
   ]
  }
 ],
 "metadata": {
  "kernelspec": {
   "display_name": "Python 3",
   "language": "python",
   "name": "python3"
  },
  "language_info": {
   "codemirror_mode": {
    "name": "ipython",
    "version": 3
   },
   "file_extension": ".py",
   "mimetype": "text/x-python",
   "name": "python",
   "nbconvert_exporter": "python",
   "pygments_lexer": "ipython3",
   "version": "3.8.3"
  }
 },
 "nbformat": 4,
 "nbformat_minor": 4
}
